{
 "cells": [
  {
   "cell_type": "markdown",
   "metadata": {},
   "source": [
    "## Importing Libraries"
   ]
  },
  {
   "cell_type": "code",
   "execution_count": 93,
   "metadata": {},
   "outputs": [],
   "source": [
    "import pandas as pd\n",
    "import numpy as np \n",
    "import matplotlib.pyplot as plt\n",
    "import seaborn as sns\n",
    "import joblib\n",
    "\n",
    "import warnings\n",
    "warnings.filterwarnings(\"ignore\")"
   ]
  },
  {
   "cell_type": "markdown",
   "metadata": {},
   "source": [
    "## Loading the Data"
   ]
  },
  {
   "cell_type": "code",
   "execution_count": 2,
   "metadata": {},
   "outputs": [],
   "source": [
    "# getting the raw data into a dataFrame\n",
    "Data = pd.read_excel('Data.xlsx') "
   ]
  },
  {
   "cell_type": "markdown",
   "metadata": {},
   "source": [
    "## Data Preprocessing"
   ]
  },
  {
   "cell_type": "code",
   "execution_count": 3,
   "metadata": {},
   "outputs": [
    {
     "data": {
      "text/html": [
       "<div>\n",
       "<style scoped>\n",
       "    .dataframe tbody tr th:only-of-type {\n",
       "        vertical-align: middle;\n",
       "    }\n",
       "\n",
       "    .dataframe tbody tr th {\n",
       "        vertical-align: top;\n",
       "    }\n",
       "\n",
       "    .dataframe thead th {\n",
       "        text-align: right;\n",
       "    }\n",
       "</style>\n",
       "<table border=\"1\" class=\"dataframe\">\n",
       "  <thead>\n",
       "    <tr style=\"text-align: right;\">\n",
       "      <th></th>\n",
       "      <th>Unnamed: 0</th>\n",
       "      <th>Name</th>\n",
       "      <th>Bedroom</th>\n",
       "      <th>Bathroom</th>\n",
       "      <th>Super_area</th>\n",
       "      <th>Carpet_area</th>\n",
       "      <th>Furnished_status</th>\n",
       "      <th>Car_parking</th>\n",
       "      <th>Water_availability</th>\n",
       "      <th>Floor</th>\n",
       "      <th>...</th>\n",
       "      <th>Availability_status</th>\n",
       "      <th>Locality</th>\n",
       "      <th>Age_of_construction</th>\n",
       "      <th>Overlooking</th>\n",
       "      <th>Facing</th>\n",
       "      <th>Monthly_charges</th>\n",
       "      <th>Brokerage</th>\n",
       "      <th>Tenant</th>\n",
       "      <th>Owner</th>\n",
       "      <th>Links</th>\n",
       "    </tr>\n",
       "  </thead>\n",
       "  <tbody>\n",
       "    <tr>\n",
       "      <th>0</th>\n",
       "      <td>0</td>\n",
       "      <td>4 BHKFlat3000 sqft</td>\n",
       "      <td>4.0</td>\n",
       "      <td>4</td>\n",
       "      <td>3000.0</td>\n",
       "      <td>2094.0</td>\n",
       "      <td>Semi-Furnished</td>\n",
       "      <td>None</td>\n",
       "      <td>NaN</td>\n",
       "      <td>15Â (Out of 40 Floors)\\n</td>\n",
       "      <td>...</td>\n",
       "      <td>NaN</td>\n",
       "      <td>Mulund</td>\n",
       "      <td>New Construction</td>\n",
       "      <td>Garden/Park</td>\n",
       "      <td>North</td>\n",
       "      <td>NaN</td>\n",
       "      <td>â‚¹ 75,000</td>\n",
       "      <td>Bachelors</td>\n",
       "      <td>NaN</td>\n",
       "      <td>https://www.magicbricks.com/propertyDetails/4-...</td>\n",
       "    </tr>\n",
       "    <tr>\n",
       "      <th>1</th>\n",
       "      <td>1</td>\n",
       "      <td>1 BHKFlat620 sqft</td>\n",
       "      <td>1.0</td>\n",
       "      <td>2</td>\n",
       "      <td>620.0</td>\n",
       "      <td>425.0</td>\n",
       "      <td>Unfurnished</td>\n",
       "      <td>None</td>\n",
       "      <td>24 Hours Available</td>\n",
       "      <td>5Â (Out of 7 Floors)\\n</td>\n",
       "      <td>...</td>\n",
       "      <td>Immediately AvailableÂ</td>\n",
       "      <td>Mulund</td>\n",
       "      <td>5 to 10 years</td>\n",
       "      <td>Garden/Park, Main Road</td>\n",
       "      <td>North - East</td>\n",
       "      <td>NaN</td>\n",
       "      <td>Others</td>\n",
       "      <td>Family</td>\n",
       "      <td>NaN</td>\n",
       "      <td>https://www.magicbricks.com/propertyDetails/1-...</td>\n",
       "    </tr>\n",
       "    <tr>\n",
       "      <th>2</th>\n",
       "      <td>2</td>\n",
       "      <td>4 BHKFlat1800 sqft</td>\n",
       "      <td>4.0</td>\n",
       "      <td>4</td>\n",
       "      <td>1800.0</td>\n",
       "      <td>1375.0</td>\n",
       "      <td>Semi-Furnished</td>\n",
       "      <td>2 Covered</td>\n",
       "      <td>24 Hours Available</td>\n",
       "      <td>32Â (Out of 40 Floors)\\n</td>\n",
       "      <td>...</td>\n",
       "      <td>Immediately AvailableÂ</td>\n",
       "      <td>Mulund</td>\n",
       "      <td>New Construction</td>\n",
       "      <td>Garden/Park, Pool, Main Road</td>\n",
       "      <td>West</td>\n",
       "      <td>â‚¹ 30,000</td>\n",
       "      <td>â‚¹ 1,12,500</td>\n",
       "      <td>Family</td>\n",
       "      <td>Agent</td>\n",
       "      <td>https://www.magicbricks.com/propertyDetails/4-...</td>\n",
       "    </tr>\n",
       "    <tr>\n",
       "      <th>3</th>\n",
       "      <td>3</td>\n",
       "      <td>3 BHKFlat1848 sqft</td>\n",
       "      <td>3.0</td>\n",
       "      <td>3</td>\n",
       "      <td>1848.0</td>\n",
       "      <td>1320.0</td>\n",
       "      <td>Semi-Furnished</td>\n",
       "      <td>1 Covered</td>\n",
       "      <td>24 Hours Available</td>\n",
       "      <td>22Â (Out of 40 Floors)\\n</td>\n",
       "      <td>...</td>\n",
       "      <td>Immediately AvailableÂ</td>\n",
       "      <td>Mulund</td>\n",
       "      <td>Less than 5 years</td>\n",
       "      <td>Garden/Park</td>\n",
       "      <td>North - East</td>\n",
       "      <td>NaN</td>\n",
       "      <td>No brokerage</td>\n",
       "      <td>Family</td>\n",
       "      <td>Agent</td>\n",
       "      <td>https://www.magicbricks.com/propertyDetails/3-...</td>\n",
       "    </tr>\n",
       "    <tr>\n",
       "      <th>4</th>\n",
       "      <td>4</td>\n",
       "      <td>3 BHKFlat1400 sqft</td>\n",
       "      <td>3.0</td>\n",
       "      <td>3</td>\n",
       "      <td>1400.0</td>\n",
       "      <td>980.0</td>\n",
       "      <td>Unfurnished</td>\n",
       "      <td>None</td>\n",
       "      <td>24 Hours Available</td>\n",
       "      <td>NaN</td>\n",
       "      <td>...</td>\n",
       "      <td>Immediately AvailableÂ</td>\n",
       "      <td>Mulund</td>\n",
       "      <td>New Construction</td>\n",
       "      <td>NaN</td>\n",
       "      <td>North - East</td>\n",
       "      <td>NaN</td>\n",
       "      <td>NaN</td>\n",
       "      <td>Bachelors</td>\n",
       "      <td>Agent</td>\n",
       "      <td>https://www.magicbricks.com/propertyDetails/3-...</td>\n",
       "    </tr>\n",
       "  </tbody>\n",
       "</table>\n",
       "<p>5 rows × 22 columns</p>\n",
       "</div>"
      ],
      "text/plain": [
       "   Unnamed: 0                Name  Bedroom  Bathroom  Super_area  Carpet_area  \\\n",
       "0           0  4 BHKFlat3000 sqft      4.0         4      3000.0       2094.0   \n",
       "1           1   1 BHKFlat620 sqft      1.0         2       620.0        425.0   \n",
       "2           2  4 BHKFlat1800 sqft      4.0         4      1800.0       1375.0   \n",
       "3           3  3 BHKFlat1848 sqft      3.0         3      1848.0       1320.0   \n",
       "4           4  3 BHKFlat1400 sqft      3.0         3      1400.0        980.0   \n",
       "\n",
       "  Furnished_status Car_parking  Water_availability                     Floor  \\\n",
       "0   Semi-Furnished        None                 NaN  15Â (Out of 40 Floors)\\n   \n",
       "1      Unfurnished        None  24 Hours Available    5Â (Out of 7 Floors)\\n   \n",
       "2   Semi-Furnished   2 Covered  24 Hours Available  32Â (Out of 40 Floors)\\n   \n",
       "3   Semi-Furnished   1 Covered  24 Hours Available  22Â (Out of 40 Floors)\\n   \n",
       "4      Unfurnished        None  24 Hours Available                       NaN   \n",
       "\n",
       "   ...      Availability_status Locality Age_of_construction  \\\n",
       "0  ...                      NaN   Mulund    New Construction   \n",
       "1  ...  Immediately AvailableÂ    Mulund       5 to 10 years   \n",
       "2  ...  Immediately AvailableÂ    Mulund    New Construction   \n",
       "3  ...  Immediately AvailableÂ    Mulund   Less than 5 years   \n",
       "4  ...  Immediately AvailableÂ    Mulund    New Construction   \n",
       "\n",
       "                    Overlooking        Facing Monthly_charges     Brokerage  \\\n",
       "0                   Garden/Park         North             NaN    â‚¹ 75,000   \n",
       "1        Garden/Park, Main Road  North - East             NaN        Others   \n",
       "2  Garden/Park, Pool, Main Road          West      â‚¹ 30,000  â‚¹ 1,12,500   \n",
       "3                   Garden/Park  North - East             NaN  No brokerage   \n",
       "4                           NaN  North - East             NaN           NaN   \n",
       "\n",
       "      Tenant  Owner                                              Links  \n",
       "0  Bachelors    NaN  https://www.magicbricks.com/propertyDetails/4-...  \n",
       "1     Family    NaN  https://www.magicbricks.com/propertyDetails/1-...  \n",
       "2     Family  Agent  https://www.magicbricks.com/propertyDetails/4-...  \n",
       "3     Family  Agent  https://www.magicbricks.com/propertyDetails/3-...  \n",
       "4  Bachelors  Agent  https://www.magicbricks.com/propertyDetails/3-...  \n",
       "\n",
       "[5 rows x 22 columns]"
      ]
     },
     "execution_count": 3,
     "metadata": {},
     "output_type": "execute_result"
    }
   ],
   "source": [
    "# overview of the data\n",
    "Data.head()"
   ]
  },
  {
   "cell_type": "code",
   "execution_count": 4,
   "metadata": {},
   "outputs": [
    {
     "data": {
      "text/html": [
       "<div>\n",
       "<style scoped>\n",
       "    .dataframe tbody tr th:only-of-type {\n",
       "        vertical-align: middle;\n",
       "    }\n",
       "\n",
       "    .dataframe tbody tr th {\n",
       "        vertical-align: top;\n",
       "    }\n",
       "\n",
       "    .dataframe thead th {\n",
       "        text-align: right;\n",
       "    }\n",
       "</style>\n",
       "<table border=\"1\" class=\"dataframe\">\n",
       "  <thead>\n",
       "    <tr style=\"text-align: right;\">\n",
       "      <th></th>\n",
       "      <th>0</th>\n",
       "    </tr>\n",
       "  </thead>\n",
       "  <tbody>\n",
       "    <tr>\n",
       "      <th>0</th>\n",
       "      <td>Unnamed: 0</td>\n",
       "    </tr>\n",
       "    <tr>\n",
       "      <th>1</th>\n",
       "      <td>Name</td>\n",
       "    </tr>\n",
       "    <tr>\n",
       "      <th>2</th>\n",
       "      <td>Bedroom</td>\n",
       "    </tr>\n",
       "    <tr>\n",
       "      <th>3</th>\n",
       "      <td>Bathroom</td>\n",
       "    </tr>\n",
       "    <tr>\n",
       "      <th>4</th>\n",
       "      <td>Super_area</td>\n",
       "    </tr>\n",
       "    <tr>\n",
       "      <th>5</th>\n",
       "      <td>Carpet_area</td>\n",
       "    </tr>\n",
       "    <tr>\n",
       "      <th>6</th>\n",
       "      <td>Furnished_status</td>\n",
       "    </tr>\n",
       "    <tr>\n",
       "      <th>7</th>\n",
       "      <td>Car_parking</td>\n",
       "    </tr>\n",
       "    <tr>\n",
       "      <th>8</th>\n",
       "      <td>Water_availability</td>\n",
       "    </tr>\n",
       "    <tr>\n",
       "      <th>9</th>\n",
       "      <td>Floor</td>\n",
       "    </tr>\n",
       "    <tr>\n",
       "      <th>10</th>\n",
       "      <td>Rent</td>\n",
       "    </tr>\n",
       "    <tr>\n",
       "      <th>11</th>\n",
       "      <td>Security_deposit</td>\n",
       "    </tr>\n",
       "    <tr>\n",
       "      <th>12</th>\n",
       "      <td>Availability_status</td>\n",
       "    </tr>\n",
       "    <tr>\n",
       "      <th>13</th>\n",
       "      <td>Locality</td>\n",
       "    </tr>\n",
       "    <tr>\n",
       "      <th>14</th>\n",
       "      <td>Age_of_construction</td>\n",
       "    </tr>\n",
       "    <tr>\n",
       "      <th>15</th>\n",
       "      <td>Overlooking</td>\n",
       "    </tr>\n",
       "    <tr>\n",
       "      <th>16</th>\n",
       "      <td>Facing</td>\n",
       "    </tr>\n",
       "    <tr>\n",
       "      <th>17</th>\n",
       "      <td>Monthly_charges</td>\n",
       "    </tr>\n",
       "    <tr>\n",
       "      <th>18</th>\n",
       "      <td>Brokerage</td>\n",
       "    </tr>\n",
       "    <tr>\n",
       "      <th>19</th>\n",
       "      <td>Tenant</td>\n",
       "    </tr>\n",
       "    <tr>\n",
       "      <th>20</th>\n",
       "      <td>Owner</td>\n",
       "    </tr>\n",
       "    <tr>\n",
       "      <th>21</th>\n",
       "      <td>Links</td>\n",
       "    </tr>\n",
       "  </tbody>\n",
       "</table>\n",
       "</div>"
      ],
      "text/plain": [
       "                      0\n",
       "0            Unnamed: 0\n",
       "1                  Name\n",
       "2               Bedroom\n",
       "3              Bathroom\n",
       "4            Super_area\n",
       "5           Carpet_area\n",
       "6      Furnished_status\n",
       "7           Car_parking\n",
       "8    Water_availability\n",
       "9                 Floor\n",
       "10                 Rent\n",
       "11     Security_deposit\n",
       "12  Availability_status\n",
       "13             Locality\n",
       "14  Age_of_construction\n",
       "15          Overlooking\n",
       "16               Facing\n",
       "17      Monthly_charges\n",
       "18            Brokerage\n",
       "19               Tenant\n",
       "20                Owner\n",
       "21                Links"
      ]
     },
     "execution_count": 4,
     "metadata": {},
     "output_type": "execute_result"
    }
   ],
   "source": [
    "# taking a look at the coloumns \n",
    "pd.DataFrame(Data.columns)"
   ]
  },
  {
   "cell_type": "code",
   "execution_count": 5,
   "metadata": {},
   "outputs": [
    {
     "data": {
      "text/plain": [
       "((666, 22), 14652)"
      ]
     },
     "execution_count": 5,
     "metadata": {},
     "output_type": "execute_result"
    }
   ],
   "source": [
    "# taking a look at rows and elemnts \n",
    "Data.shape , Data.size"
   ]
  },
  {
   "cell_type": "code",
   "execution_count": 6,
   "metadata": {},
   "outputs": [],
   "source": [
    "# making a working dataframe \n",
    "df = Data.copy()"
   ]
  },
  {
   "cell_type": "code",
   "execution_count": 7,
   "metadata": {},
   "outputs": [
    {
     "data": {
      "text/html": [
       "<div>\n",
       "<style scoped>\n",
       "    .dataframe tbody tr th:only-of-type {\n",
       "        vertical-align: middle;\n",
       "    }\n",
       "\n",
       "    .dataframe tbody tr th {\n",
       "        vertical-align: top;\n",
       "    }\n",
       "\n",
       "    .dataframe thead th {\n",
       "        text-align: right;\n",
       "    }\n",
       "</style>\n",
       "<table border=\"1\" class=\"dataframe\">\n",
       "  <thead>\n",
       "    <tr style=\"text-align: right;\">\n",
       "      <th></th>\n",
       "      <th>Unnamed: 0</th>\n",
       "      <th>Name</th>\n",
       "      <th>Bedroom</th>\n",
       "      <th>Bathroom</th>\n",
       "      <th>Super_area</th>\n",
       "      <th>Carpet_area</th>\n",
       "      <th>Furnished_status</th>\n",
       "      <th>Car_parking</th>\n",
       "      <th>Water_availability</th>\n",
       "      <th>Floor</th>\n",
       "      <th>...</th>\n",
       "      <th>Availability_status</th>\n",
       "      <th>Locality</th>\n",
       "      <th>Age_of_construction</th>\n",
       "      <th>Overlooking</th>\n",
       "      <th>Facing</th>\n",
       "      <th>Monthly_charges</th>\n",
       "      <th>Brokerage</th>\n",
       "      <th>Tenant</th>\n",
       "      <th>Owner</th>\n",
       "      <th>Links</th>\n",
       "    </tr>\n",
       "  </thead>\n",
       "  <tbody>\n",
       "    <tr>\n",
       "      <th>0</th>\n",
       "      <td>0</td>\n",
       "      <td>4 BHKFlat3000 sqft</td>\n",
       "      <td>4.0</td>\n",
       "      <td>4</td>\n",
       "      <td>3000.0</td>\n",
       "      <td>2094.0</td>\n",
       "      <td>Semi-Furnished</td>\n",
       "      <td>None</td>\n",
       "      <td>NaN</td>\n",
       "      <td>15Â (Out of 40 Floors)\\n</td>\n",
       "      <td>...</td>\n",
       "      <td>NaN</td>\n",
       "      <td>Mulund</td>\n",
       "      <td>New Construction</td>\n",
       "      <td>Garden/Park</td>\n",
       "      <td>North</td>\n",
       "      <td>NaN</td>\n",
       "      <td>â‚¹ 75,000</td>\n",
       "      <td>Bachelors</td>\n",
       "      <td>NaN</td>\n",
       "      <td>https://www.magicbricks.com/propertyDetails/4-...</td>\n",
       "    </tr>\n",
       "    <tr>\n",
       "      <th>1</th>\n",
       "      <td>1</td>\n",
       "      <td>1 BHKFlat620 sqft</td>\n",
       "      <td>1.0</td>\n",
       "      <td>2</td>\n",
       "      <td>620.0</td>\n",
       "      <td>425.0</td>\n",
       "      <td>Unfurnished</td>\n",
       "      <td>None</td>\n",
       "      <td>24 Hours Available</td>\n",
       "      <td>5Â (Out of 7 Floors)\\n</td>\n",
       "      <td>...</td>\n",
       "      <td>Immediately AvailableÂ</td>\n",
       "      <td>Mulund</td>\n",
       "      <td>5 to 10 years</td>\n",
       "      <td>Garden/Park, Main Road</td>\n",
       "      <td>North - East</td>\n",
       "      <td>NaN</td>\n",
       "      <td>Others</td>\n",
       "      <td>Family</td>\n",
       "      <td>NaN</td>\n",
       "      <td>https://www.magicbricks.com/propertyDetails/1-...</td>\n",
       "    </tr>\n",
       "    <tr>\n",
       "      <th>2</th>\n",
       "      <td>2</td>\n",
       "      <td>4 BHKFlat1800 sqft</td>\n",
       "      <td>4.0</td>\n",
       "      <td>4</td>\n",
       "      <td>1800.0</td>\n",
       "      <td>1375.0</td>\n",
       "      <td>Semi-Furnished</td>\n",
       "      <td>2 Covered</td>\n",
       "      <td>24 Hours Available</td>\n",
       "      <td>32Â (Out of 40 Floors)\\n</td>\n",
       "      <td>...</td>\n",
       "      <td>Immediately AvailableÂ</td>\n",
       "      <td>Mulund</td>\n",
       "      <td>New Construction</td>\n",
       "      <td>Garden/Park, Pool, Main Road</td>\n",
       "      <td>West</td>\n",
       "      <td>â‚¹ 30,000</td>\n",
       "      <td>â‚¹ 1,12,500</td>\n",
       "      <td>Family</td>\n",
       "      <td>Agent</td>\n",
       "      <td>https://www.magicbricks.com/propertyDetails/4-...</td>\n",
       "    </tr>\n",
       "    <tr>\n",
       "      <th>3</th>\n",
       "      <td>3</td>\n",
       "      <td>3 BHKFlat1848 sqft</td>\n",
       "      <td>3.0</td>\n",
       "      <td>3</td>\n",
       "      <td>1848.0</td>\n",
       "      <td>1320.0</td>\n",
       "      <td>Semi-Furnished</td>\n",
       "      <td>1 Covered</td>\n",
       "      <td>24 Hours Available</td>\n",
       "      <td>22Â (Out of 40 Floors)\\n</td>\n",
       "      <td>...</td>\n",
       "      <td>Immediately AvailableÂ</td>\n",
       "      <td>Mulund</td>\n",
       "      <td>Less than 5 years</td>\n",
       "      <td>Garden/Park</td>\n",
       "      <td>North - East</td>\n",
       "      <td>NaN</td>\n",
       "      <td>No brokerage</td>\n",
       "      <td>Family</td>\n",
       "      <td>Agent</td>\n",
       "      <td>https://www.magicbricks.com/propertyDetails/3-...</td>\n",
       "    </tr>\n",
       "    <tr>\n",
       "      <th>4</th>\n",
       "      <td>4</td>\n",
       "      <td>3 BHKFlat1400 sqft</td>\n",
       "      <td>3.0</td>\n",
       "      <td>3</td>\n",
       "      <td>1400.0</td>\n",
       "      <td>980.0</td>\n",
       "      <td>Unfurnished</td>\n",
       "      <td>None</td>\n",
       "      <td>24 Hours Available</td>\n",
       "      <td>NaN</td>\n",
       "      <td>...</td>\n",
       "      <td>Immediately AvailableÂ</td>\n",
       "      <td>Mulund</td>\n",
       "      <td>New Construction</td>\n",
       "      <td>NaN</td>\n",
       "      <td>North - East</td>\n",
       "      <td>NaN</td>\n",
       "      <td>NaN</td>\n",
       "      <td>Bachelors</td>\n",
       "      <td>Agent</td>\n",
       "      <td>https://www.magicbricks.com/propertyDetails/3-...</td>\n",
       "    </tr>\n",
       "  </tbody>\n",
       "</table>\n",
       "<p>5 rows × 22 columns</p>\n",
       "</div>"
      ],
      "text/plain": [
       "   Unnamed: 0                Name  Bedroom  Bathroom  Super_area  Carpet_area  \\\n",
       "0           0  4 BHKFlat3000 sqft      4.0         4      3000.0       2094.0   \n",
       "1           1   1 BHKFlat620 sqft      1.0         2       620.0        425.0   \n",
       "2           2  4 BHKFlat1800 sqft      4.0         4      1800.0       1375.0   \n",
       "3           3  3 BHKFlat1848 sqft      3.0         3      1848.0       1320.0   \n",
       "4           4  3 BHKFlat1400 sqft      3.0         3      1400.0        980.0   \n",
       "\n",
       "  Furnished_status Car_parking  Water_availability                     Floor  \\\n",
       "0   Semi-Furnished        None                 NaN  15Â (Out of 40 Floors)\\n   \n",
       "1      Unfurnished        None  24 Hours Available    5Â (Out of 7 Floors)\\n   \n",
       "2   Semi-Furnished   2 Covered  24 Hours Available  32Â (Out of 40 Floors)\\n   \n",
       "3   Semi-Furnished   1 Covered  24 Hours Available  22Â (Out of 40 Floors)\\n   \n",
       "4      Unfurnished        None  24 Hours Available                       NaN   \n",
       "\n",
       "   ...      Availability_status Locality Age_of_construction  \\\n",
       "0  ...                      NaN   Mulund    New Construction   \n",
       "1  ...  Immediately AvailableÂ    Mulund       5 to 10 years   \n",
       "2  ...  Immediately AvailableÂ    Mulund    New Construction   \n",
       "3  ...  Immediately AvailableÂ    Mulund   Less than 5 years   \n",
       "4  ...  Immediately AvailableÂ    Mulund    New Construction   \n",
       "\n",
       "                    Overlooking        Facing Monthly_charges     Brokerage  \\\n",
       "0                   Garden/Park         North             NaN    â‚¹ 75,000   \n",
       "1        Garden/Park, Main Road  North - East             NaN        Others   \n",
       "2  Garden/Park, Pool, Main Road          West      â‚¹ 30,000  â‚¹ 1,12,500   \n",
       "3                   Garden/Park  North - East             NaN  No brokerage   \n",
       "4                           NaN  North - East             NaN           NaN   \n",
       "\n",
       "      Tenant  Owner                                              Links  \n",
       "0  Bachelors    NaN  https://www.magicbricks.com/propertyDetails/4-...  \n",
       "1     Family    NaN  https://www.magicbricks.com/propertyDetails/1-...  \n",
       "2     Family  Agent  https://www.magicbricks.com/propertyDetails/4-...  \n",
       "3     Family  Agent  https://www.magicbricks.com/propertyDetails/3-...  \n",
       "4  Bachelors  Agent  https://www.magicbricks.com/propertyDetails/3-...  \n",
       "\n",
       "[5 rows x 22 columns]"
      ]
     },
     "execution_count": 7,
     "metadata": {},
     "output_type": "execute_result"
    }
   ],
   "source": [
    "# getting an over view of the copy dataframe\n",
    "df.head()"
   ]
  },
  {
   "cell_type": "code",
   "execution_count": 8,
   "metadata": {},
   "outputs": [],
   "source": [
    "# dropping a few columns\n",
    "df.drop(['Unnamed: 0' , 'Links' , 'Name'] , axis = 1 , inplace = True)"
   ]
  },
  {
   "cell_type": "code",
   "execution_count": 9,
   "metadata": {},
   "outputs": [
    {
     "data": {
      "text/plain": [
       "Bedroom                  1\n",
       "Bathroom                 0\n",
       "Super_area               9\n",
       "Carpet_area             62\n",
       "Furnished_status         0\n",
       "Car_parking              0\n",
       "Water_availability     176\n",
       "Floor                   73\n",
       "Rent                     0\n",
       "Security_deposit        66\n",
       "Availability_status    175\n",
       "Locality                 0\n",
       "Age_of_construction     34\n",
       "Overlooking            127\n",
       "Facing                  77\n",
       "Monthly_charges        527\n",
       "Brokerage              203\n",
       "Tenant                 300\n",
       "Owner                  317\n",
       "dtype: int64"
      ]
     },
     "execution_count": 9,
     "metadata": {},
     "output_type": "execute_result"
    }
   ],
   "source": [
    "# finding nan / null values in each column\n",
    "df.isnull().sum()"
   ]
  },
  {
   "cell_type": "markdown",
   "metadata": {},
   "source": [
    "### Bedroom"
   ]
  },
  {
   "cell_type": "code",
   "execution_count": 10,
   "metadata": {
    "scrolled": false
   },
   "outputs": [
    {
     "name": "stdout",
     "output_type": "stream",
     "text": [
      "count of each bedrooms :\n",
      "2.0    321\n",
      "1.0    165\n",
      "3.0    160\n",
      "4.0     19\n",
      "Name: Bedroom, dtype: int64\n",
      "\n",
      "Number of null value before : 1\n",
      "Number of null value after : 0\n"
     ]
    }
   ],
   "source": [
    "# checking for the categories in the bedroom  \n",
    "print('count of each bedrooms :\\n{}'.format(df['Bedroom'].value_counts()))\n",
    "\n",
    "# removing null values in bedroom \n",
    "# as this is a discrete variable median is the best option to go with \n",
    "\n",
    "print('\\nNumber of null value before : {}'.format(df['Bedroom'].isnull().sum()))\n",
    "df['Bedroom'].fillna(df['Bedroom'].median() , inplace = True)\n",
    "print('Number of null value after : {}'.format(df['Bedroom'].isnull().sum()))\n",
    "\n"
   ]
  },
  {
   "cell_type": "code",
   "execution_count": 11,
   "metadata": {},
   "outputs": [
    {
     "name": "stdout",
     "output_type": "stream",
     "text": [
      "Number of null value before : 9\n",
      "Number of null value after : 0\n"
     ]
    }
   ],
   "source": [
    "# removing null values in Super_area\n",
    "# in this case the mean and median are almost the same thus chosing median is a better option\n",
    "\n",
    "print('Number of null value before : {}'.format(df['Super_area'].isnull().sum()))\n",
    "df['Super_area'].fillna(df['Super_area'].median() , inplace = True)\n",
    "print('Number of null value after : {}'.format(df['Super_area'].isnull().sum()))"
   ]
  },
  {
   "cell_type": "code",
   "execution_count": 12,
   "metadata": {},
   "outputs": [
    {
     "name": "stdout",
     "output_type": "stream",
     "text": [
      "Number of null value before : 62\n",
      "Number of null value after : 0\n"
     ]
    }
   ],
   "source": [
    "# removing null values in Carpet_area\n",
    "# in this case the mean and median have a difference of 50 which makes a great amount of difference in pricing thus mean would be a better option \n",
    "\n",
    "print('Number of null value before : {}'.format(df['Carpet_area'].isnull().sum()))\n",
    "df['Carpet_area'].fillna(df['Carpet_area'].mean() , inplace = True)\n",
    "print('Number of null value after : {}'.format(df['Carpet_area'].isnull().sum()))"
   ]
  },
  {
   "cell_type": "code",
   "execution_count": 13,
   "metadata": {},
   "outputs": [
    {
     "name": "stdout",
     "output_type": "stream",
     "text": [
      "Number of null value before : 176\n",
      "Number of null value after : 0\n"
     ]
    }
   ],
   "source": [
    "# removing null values in Water_availability\n",
    "# generally When water availability when not mentioned is considerd as the place not having 24 hrs running water \n",
    "# thus we can either create a new category of not mentioned or go with mode \n",
    "# but as u can see in value counts there is only 1 entry of 12 hrs water , so if we create a new category  \n",
    "# the data may be baised more towards 24 hrs and not mentioned category and the model wont have enough points to train on 12 hrs water supply \n",
    "# aslo domain knowledge says that a minimum of 12 hrs water suppply is a complusion in areas mentioned above \n",
    "# Thus we replace the nan values with 12 hrs\n",
    "\n",
    "print('Number of null value before : {}'.format(df['Water_availability'].isnull().sum()))\n",
    "df['Water_availability'].fillna('12 Hours Available', inplace = True)\n",
    "print('Number of null value after : {}'.format(df['Water_availability'].isnull().sum()))"
   ]
  },
  {
   "cell_type": "code",
   "execution_count": 14,
   "metadata": {},
   "outputs": [
    {
     "name": "stdout",
     "output_type": "stream",
     "text": [
      "Number of null value before : 73\n",
      "Number of null value after : 0\n"
     ]
    }
   ],
   "source": [
    "# removing null values in floor\n",
    "floor = []\n",
    "df['Floor'] = df['Floor'].astype('str')\n",
    "\n",
    "for each in df['Floor'] :\n",
    "    if 'Upper' in each :\n",
    "        x = each.split()\n",
    "        for each_char in x :\n",
    "            if each_char.isnumeric() == True:\n",
    "                floor.append(int(each_char))\n",
    "                \n",
    "    elif 'GroundÂ'  in each or 'Lower' in each :\n",
    "        floor.append(0)\n",
    "    \n",
    "    elif 'nan' in each :\n",
    "        floor.append(None)\n",
    "        \n",
    "    else :\n",
    "        each = each.split('Â')\n",
    "        floor.append(int(each[0]))\n",
    "        \n",
    "\n",
    "# droping and replacing the dataframe \n",
    "df.drop(['Floor'] , axis = 1 , inplace = True) \n",
    "df['Floor'] = pd.DataFrame(floor)\n",
    "\n",
    "print('Number of null value before : {}'.format(df['Floor'].isnull().sum()))\n",
    "df['Floor'].fillna(df['Floor'].median() , inplace = True )\n",
    "print('Number of null value after : {}'.format(df['Floor'].isnull().sum()))"
   ]
  },
  {
   "cell_type": "code",
   "execution_count": 15,
   "metadata": {},
   "outputs": [],
   "source": [
    "# removing null values in Security_deposit and making it numerical as well \n",
    "\n",
    "# all nan values to be replaced with zero first\n",
    "df['Security_deposit'].fillna(0, inplace = True)\n",
    "\n",
    "# cleaing the data and making it numerical \n",
    "# special cases need to addressed spearately \n",
    "\n",
    "Security_deposit = []\n",
    "for each in df['Security_deposit']:\n",
    "    if each ==  '2.5 Lac' :\n",
    "        Security_deposit.append('250000')\n",
    "    \n",
    "    elif each == 'â‚¹ 1' :\n",
    "        Security_deposit.append('1') \n",
    "    \n",
    "    elif each == '2.0 Lac' :\n",
    "        Security_deposit.append('200000')\n",
    "    \n",
    "    elif each == 0 :\n",
    "        Security_deposit.append(str(each)) \n",
    "        \n",
    "    else :\n",
    "        each = each.split()\n",
    "        Security_deposit.append(str(each[1])) \n",
    "    \n",
    "\n",
    "\n",
    "security_deposit = []\n",
    "for each in Security_deposit :\n",
    "    security_deposit.append(''.join(each.split(',')))\n",
    "\n",
    "#droping and replacding the DataFrame\n",
    "df.drop(['Security_deposit']  , axis = 1, inplace = True)    \n",
    "df['Security_deposit'] = pd.DataFrame(security_deposit)\n",
    "\n",
    "# as the data in the DataFrame is string type we need to convert it into numberic type \n",
    "df['Security_deposit'] = df['Security_deposit'].astype('int32')"
   ]
  },
  {
   "cell_type": "code",
   "execution_count": 16,
   "metadata": {},
   "outputs": [
    {
     "name": "stdout",
     "output_type": "stream",
     "text": [
      "Number of null value before : 175\n",
      "Number of null value after : 0\n"
     ]
    }
   ],
   "source": [
    "# removing null values in Availability_status\n",
    "# if the Availability_status is not mentioned it is obvious that the place is not ready as of yet to be rented \n",
    "# thus another category of Immediately Not Available is replace where there is nan \n",
    "\n",
    "\n",
    "# replacing the null values \n",
    "print('Number of null value before : {}'.format(df['Availability_status'].isnull().sum()))\n",
    "df['Availability_status'].fillna('Immediately Not Available', inplace = True)\n",
    "print('Number of null value after : {}'.format(df['Availability_status'].isnull().sum()))\n",
    "\n",
    "# making the category more readable\n",
    "Availability_status = []\n",
    "for each in df['Availability_status'] :\n",
    "    if each != 'Immediately Not Available' :\n",
    "        Availability_status.append(each[:-2])\n",
    "    else :\n",
    "        Availability_status.append(each)\n",
    "\n",
    "#droping and replacding the DataFrame\n",
    "df.drop(['Availability_status'] , axis = 1 , inplace = True)\n",
    "df['Availability_status'] = pd.DataFrame(Availability_status)"
   ]
  },
  {
   "cell_type": "code",
   "execution_count": 17,
   "metadata": {},
   "outputs": [
    {
     "name": "stdout",
     "output_type": "stream",
     "text": [
      "Number of null value before : 34\n",
      "Number of null value after : 0\n"
     ]
    }
   ],
   "source": [
    "# removing the null values in Age_of_construction\n",
    "# going by the domain knowlegde in this case ... \n",
    "# Generally when the age of the building is not mentioned we assume it to be a new construction or less than 5 years\n",
    "# here as most of the building are in the less than 5 years category (mode) we replace the null values with this category \n",
    "\n",
    "# replacing the null values \n",
    "print('Number of null value before : {}'.format(df['Age_of_construction'].isnull().sum()))\n",
    "df['Age_of_construction'].fillna(df['Age_of_construction'].value_counts().index[0], inplace = True)\n",
    "print('Number of null value after : {}'.format(df['Age_of_construction'].isnull().sum()))"
   ]
  },
  {
   "cell_type": "code",
   "execution_count": 18,
   "metadata": {},
   "outputs": [],
   "source": [
    "#removing the null values in Overlooking\n",
    "\n",
    "Overlooking = []\n",
    "df['Overlooking'] = df['Overlooking'].astype('str')\n",
    "for each in df['Overlooking'] :\n",
    "    each = each.split(',')\n",
    "    Overlooking.append(each[0])\n",
    "    \n",
    "# droping and replacing the overlooking DataFrame\n",
    "df.drop(['Overlooking'] , axis = 1 , inplace = True)\n",
    "df['Overlooking'] = pd.DataFrame(Overlooking).astype('str')\n",
    "\n",
    "# replacing the nan value with a new category of not mentioned as we cannot assume the view of the place \n",
    "df['Overlooking'].replace('nan' , 'Not Mentioned' , inplace=True)"
   ]
  },
  {
   "cell_type": "code",
   "execution_count": 19,
   "metadata": {},
   "outputs": [
    {
     "name": "stdout",
     "output_type": "stream",
     "text": [
      "Number of null value before : 77\n",
      "Number of null value after : 0\n"
     ]
    }
   ],
   "source": [
    "# removing null values in Facing\n",
    "# replacing the nan value with a new category of not mentioned as we cannot assume the Facing of the place \n",
    "\n",
    "print('Number of null value before : {}'.format(df['Facing'].isnull().sum()))\n",
    "df['Facing'].fillna('Not Mentioned', inplace = True)\n",
    "print('Number of null value after : {}'.format(df['Facing'].isnull().sum()))"
   ]
  },
  {
   "cell_type": "code",
   "execution_count": 20,
   "metadata": {},
   "outputs": [],
   "source": [
    "# Monthly_charges\n",
    "# mothly chareges are additional chareges to be added to the brokerage thus replacing the nan value with zero\n",
    "\n",
    "df['Monthly_charges'] = df['Monthly_charges'].astype('str')\n",
    "\n",
    "Monthly_charges = []\n",
    "for each in df['Monthly_charges'] :\n",
    "    if each == 'nan' :\n",
    "        Monthly_charges.append('0')\n",
    "    \n",
    "    elif each == '100' :\n",
    "        Monthly_charges.append('100')\n",
    "               \n",
    "    elif each == '2500' :\n",
    "        Monthly_charges.append('2500')\n",
    "    \n",
    "    elif each == '5800' :\n",
    "        Monthly_charges.append('5800')\n",
    "        \n",
    "    elif each == '3000' :\n",
    "        Monthly_charges.append('3000')\n",
    "        \n",
    "    else :\n",
    "        each = each.split()\n",
    "        Monthly_charges.append(each[1])\n",
    "        \n",
    "\n",
    "# making the values more numeric \n",
    "monthly_charges = []\n",
    "for each in Monthly_charges :\n",
    "    monthly_charges.append(''.join(each.split(',')))\n",
    "\n",
    "# droping and replacing the monthly charges\n",
    "df.drop(['Monthly_charges'] , axis = 1 , inplace = True)\n",
    "df['Monthly_charges'] = pd.DataFrame(monthly_charges).astype('int32')"
   ]
  },
  {
   "cell_type": "code",
   "execution_count": 21,
   "metadata": {},
   "outputs": [],
   "source": [
    "# Brokerage\n",
    "# brokerage is a one time charge thus replacing the nan value with zero\n",
    "\n",
    "df['Brokerage'] = df['Brokerage'].astype('str')\n",
    "\n",
    "Brokerage = []\n",
    "for each in df['Brokerage'] :\n",
    "    if each == 'nan' or each == 'Others' or each == 'No brokerage':\n",
    "        Brokerage.append('0')\n",
    "         \n",
    "    else :\n",
    "        each = each.split()\n",
    "        Brokerage.append(each[1])\n",
    "        \n",
    "        \n",
    "# making the values more numeric \n",
    "brokerage = []\n",
    "for each in Brokerage :\n",
    "    brokerage.append(''.join(each.split(',')))\n",
    "\n",
    "\n",
    "# droping and replacing the monthly charges\n",
    "df.drop(['Brokerage'] , axis = 1 , inplace = True)\n",
    "df['Brokerage'] = pd.DataFrame(brokerage).astype('int32')"
   ]
  },
  {
   "cell_type": "code",
   "execution_count": 22,
   "metadata": {},
   "outputs": [
    {
     "name": "stdout",
     "output_type": "stream",
     "text": [
      "Number of null value before : 300\n",
      "Number of null value after : 0\n"
     ]
    }
   ],
   "source": [
    "# removing the null values in Tenant\n",
    "# When nothing is mentioned , we assume that both family and bachelors are allowed \n",
    "# thus we replace null values with a new category \n",
    "\n",
    "print('Number of null value before : {}'.format(df['Tenant'].isnull().sum()))\n",
    "df['Tenant'].fillna('Family / Bachelors ', inplace = True)\n",
    "print('Number of null value after : {}'.format(df['Tenant'].isnull().sum()))"
   ]
  },
  {
   "cell_type": "code",
   "execution_count": 23,
   "metadata": {},
   "outputs": [
    {
     "name": "stdout",
     "output_type": "stream",
     "text": [
      "Number of null value before : 317\n",
      "Number of null value after : 0\n"
     ]
    }
   ],
   "source": [
    "# removing the null values in Owner\n",
    "# generally a agent is there to handle all the rent bussiness \n",
    "# thus we replace null values with agent (mode) \n",
    "\n",
    "print('Number of null value before : {}'.format(df['Owner'].isnull().sum()))\n",
    "df['Owner'].fillna(df['Owner'].value_counts().index[0], inplace = True)\n",
    "print('Number of null value after : {}'.format(df['Owner'].isnull().sum()))"
   ]
  },
  {
   "cell_type": "code",
   "execution_count": 24,
   "metadata": {},
   "outputs": [],
   "source": [
    "# cleaning the scrapped data of Rent column\n",
    "\n",
    "df['Rent'] = df['Rent'].astype('str')\n",
    "\n",
    "rent = []\n",
    "for each in df['Rent'] :\n",
    "    if 'â‚¹' in each :\n",
    "        each = each.split()\n",
    "        rent.append(each[1])\n",
    "    elif 'Lac' in each :\n",
    "        each = each.split()\n",
    "        rent.append(each[0].replace('.' , '')+'0000')\n",
    "        \n",
    "    else :\n",
    "        rent.append(each)\n",
    "        \n",
    "\n",
    "\n",
    "Rent = []\n",
    "for each in rent :\n",
    "    Rent.append(''.join(each.split(',')))\n",
    "\n",
    "#dropping and replacing the Rent data\n",
    "df.drop(['Rent'] , axis = 1 , inplace = True)\n",
    "df['Rent'] = pd.DataFrame(Rent).astype('int32')"
   ]
  },
  {
   "cell_type": "code",
   "execution_count": 25,
   "metadata": {},
   "outputs": [],
   "source": [
    "# removing and Car_parking\n",
    "\n",
    "open_parking = []\n",
    "covered_parking = []\n",
    "df['Car_parking'] = df['Car_parking'].astype('str')\n",
    "\n",
    "for each in df['Car_parking'] :\n",
    "\n",
    "    if 'Covered' in each and 'Open' in each :\n",
    "        each = each.split()\n",
    "        covered_parking.append(int(each[0]))\n",
    "        open_parking.append(int(each[2]))\n",
    "          \n",
    "        \n",
    "    elif 'Open' in each :\n",
    "        each = each.split()\n",
    "        open_parking.append(int(each[0]))\n",
    "        covered_parking.append(0)\n",
    "        \n",
    "    elif 'Covered' in each :\n",
    "        each = each.split()\n",
    "        open_parking.append(0)\n",
    "        covered_parking.append(int(each[0]))\n",
    "        \n",
    "    if 'None' in each :\n",
    "        open_parking.append(0)\n",
    "        covered_parking.append(0) \n",
    "\n",
    "df['covered_parking'] = pd.DataFrame(covered_parking)\n",
    "\n",
    "df['open_parking'] = pd.DataFrame(open_parking)\n",
    "\n",
    "df.drop(['Car_parking'] , axis = 1 , inplace = True)"
   ]
  },
  {
   "cell_type": "code",
   "execution_count": 26,
   "metadata": {},
   "outputs": [
    {
     "data": {
      "text/html": [
       "<div>\n",
       "<style scoped>\n",
       "    .dataframe tbody tr th:only-of-type {\n",
       "        vertical-align: middle;\n",
       "    }\n",
       "\n",
       "    .dataframe tbody tr th {\n",
       "        vertical-align: top;\n",
       "    }\n",
       "\n",
       "    .dataframe thead th {\n",
       "        text-align: right;\n",
       "    }\n",
       "</style>\n",
       "<table border=\"1\" class=\"dataframe\">\n",
       "  <thead>\n",
       "    <tr style=\"text-align: right;\">\n",
       "      <th></th>\n",
       "      <th>Bedroom</th>\n",
       "      <th>Bathroom</th>\n",
       "      <th>Super_area</th>\n",
       "      <th>Carpet_area</th>\n",
       "      <th>Furnished_status</th>\n",
       "      <th>Water_availability</th>\n",
       "      <th>Locality</th>\n",
       "      <th>Age_of_construction</th>\n",
       "      <th>Facing</th>\n",
       "      <th>Tenant</th>\n",
       "      <th>Owner</th>\n",
       "      <th>Floor</th>\n",
       "      <th>Security_deposit</th>\n",
       "      <th>Availability_status</th>\n",
       "      <th>Overlooking</th>\n",
       "      <th>Monthly_charges</th>\n",
       "      <th>Brokerage</th>\n",
       "      <th>Rent</th>\n",
       "      <th>covered_parking</th>\n",
       "      <th>open_parking</th>\n",
       "    </tr>\n",
       "  </thead>\n",
       "  <tbody>\n",
       "    <tr>\n",
       "      <th>0</th>\n",
       "      <td>4.0</td>\n",
       "      <td>4</td>\n",
       "      <td>3000.0</td>\n",
       "      <td>2094.000000</td>\n",
       "      <td>Semi-Furnished</td>\n",
       "      <td>12 Hours Available</td>\n",
       "      <td>Mulund</td>\n",
       "      <td>New Construction</td>\n",
       "      <td>North</td>\n",
       "      <td>Bachelors</td>\n",
       "      <td>Agent</td>\n",
       "      <td>15.0</td>\n",
       "      <td>500000</td>\n",
       "      <td>Immediately Not Available</td>\n",
       "      <td>Garden/Park</td>\n",
       "      <td>0</td>\n",
       "      <td>75000</td>\n",
       "      <td>75000</td>\n",
       "      <td>0</td>\n",
       "      <td>0</td>\n",
       "    </tr>\n",
       "    <tr>\n",
       "      <th>1</th>\n",
       "      <td>1.0</td>\n",
       "      <td>2</td>\n",
       "      <td>620.0</td>\n",
       "      <td>425.000000</td>\n",
       "      <td>Unfurnished</td>\n",
       "      <td>24 Hours Available</td>\n",
       "      <td>Mulund</td>\n",
       "      <td>5 to 10 years</td>\n",
       "      <td>North - East</td>\n",
       "      <td>Family</td>\n",
       "      <td>Agent</td>\n",
       "      <td>5.0</td>\n",
       "      <td>100000</td>\n",
       "      <td>Immediately Available</td>\n",
       "      <td>Garden/Park</td>\n",
       "      <td>0</td>\n",
       "      <td>0</td>\n",
       "      <td>25000</td>\n",
       "      <td>0</td>\n",
       "      <td>0</td>\n",
       "    </tr>\n",
       "    <tr>\n",
       "      <th>2</th>\n",
       "      <td>4.0</td>\n",
       "      <td>4</td>\n",
       "      <td>1800.0</td>\n",
       "      <td>1375.000000</td>\n",
       "      <td>Semi-Furnished</td>\n",
       "      <td>24 Hours Available</td>\n",
       "      <td>Mulund</td>\n",
       "      <td>New Construction</td>\n",
       "      <td>West</td>\n",
       "      <td>Family</td>\n",
       "      <td>Agent</td>\n",
       "      <td>32.0</td>\n",
       "      <td>500000</td>\n",
       "      <td>Immediately Available</td>\n",
       "      <td>Garden/Park</td>\n",
       "      <td>30000</td>\n",
       "      <td>112500</td>\n",
       "      <td>75000</td>\n",
       "      <td>2</td>\n",
       "      <td>0</td>\n",
       "    </tr>\n",
       "    <tr>\n",
       "      <th>3</th>\n",
       "      <td>3.0</td>\n",
       "      <td>3</td>\n",
       "      <td>1848.0</td>\n",
       "      <td>1320.000000</td>\n",
       "      <td>Semi-Furnished</td>\n",
       "      <td>24 Hours Available</td>\n",
       "      <td>Mulund</td>\n",
       "      <td>Less than 5 years</td>\n",
       "      <td>North - East</td>\n",
       "      <td>Family</td>\n",
       "      <td>Agent</td>\n",
       "      <td>22.0</td>\n",
       "      <td>250000</td>\n",
       "      <td>Immediately Available</td>\n",
       "      <td>Garden/Park</td>\n",
       "      <td>0</td>\n",
       "      <td>0</td>\n",
       "      <td>75000</td>\n",
       "      <td>1</td>\n",
       "      <td>0</td>\n",
       "    </tr>\n",
       "    <tr>\n",
       "      <th>4</th>\n",
       "      <td>3.0</td>\n",
       "      <td>3</td>\n",
       "      <td>1400.0</td>\n",
       "      <td>980.000000</td>\n",
       "      <td>Unfurnished</td>\n",
       "      <td>24 Hours Available</td>\n",
       "      <td>Mulund</td>\n",
       "      <td>New Construction</td>\n",
       "      <td>North - East</td>\n",
       "      <td>Bachelors</td>\n",
       "      <td>Agent</td>\n",
       "      <td>7.0</td>\n",
       "      <td>0</td>\n",
       "      <td>Immediately Available</td>\n",
       "      <td>Not Mentioned</td>\n",
       "      <td>0</td>\n",
       "      <td>0</td>\n",
       "      <td>45000</td>\n",
       "      <td>0</td>\n",
       "      <td>0</td>\n",
       "    </tr>\n",
       "    <tr>\n",
       "      <th>...</th>\n",
       "      <td>...</td>\n",
       "      <td>...</td>\n",
       "      <td>...</td>\n",
       "      <td>...</td>\n",
       "      <td>...</td>\n",
       "      <td>...</td>\n",
       "      <td>...</td>\n",
       "      <td>...</td>\n",
       "      <td>...</td>\n",
       "      <td>...</td>\n",
       "      <td>...</td>\n",
       "      <td>...</td>\n",
       "      <td>...</td>\n",
       "      <td>...</td>\n",
       "      <td>...</td>\n",
       "      <td>...</td>\n",
       "      <td>...</td>\n",
       "      <td>...</td>\n",
       "      <td>...</td>\n",
       "      <td>...</td>\n",
       "    </tr>\n",
       "    <tr>\n",
       "      <th>661</th>\n",
       "      <td>1.0</td>\n",
       "      <td>2</td>\n",
       "      <td>780.0</td>\n",
       "      <td>600.000000</td>\n",
       "      <td>Unfurnished</td>\n",
       "      <td>12 Hours Available</td>\n",
       "      <td>Ghatkopar</td>\n",
       "      <td>Above 20 years</td>\n",
       "      <td>North - East</td>\n",
       "      <td>Bachelors</td>\n",
       "      <td>Agent</td>\n",
       "      <td>3.0</td>\n",
       "      <td>100000</td>\n",
       "      <td>Immediately Not Available</td>\n",
       "      <td>Garden/Park</td>\n",
       "      <td>1500</td>\n",
       "      <td>30000</td>\n",
       "      <td>30000</td>\n",
       "      <td>0</td>\n",
       "      <td>0</td>\n",
       "    </tr>\n",
       "    <tr>\n",
       "      <th>662</th>\n",
       "      <td>2.0</td>\n",
       "      <td>2</td>\n",
       "      <td>1850.0</td>\n",
       "      <td>745.571192</td>\n",
       "      <td>Semi-Furnished</td>\n",
       "      <td>12 Hours Available</td>\n",
       "      <td>Ghatkopar</td>\n",
       "      <td>Less than 5 years</td>\n",
       "      <td>Not Mentioned</td>\n",
       "      <td>Family / Bachelors</td>\n",
       "      <td>Owner</td>\n",
       "      <td>9.0</td>\n",
       "      <td>0</td>\n",
       "      <td>Immediately Not Available</td>\n",
       "      <td>Not Mentioned</td>\n",
       "      <td>0</td>\n",
       "      <td>0</td>\n",
       "      <td>110000</td>\n",
       "      <td>0</td>\n",
       "      <td>0</td>\n",
       "    </tr>\n",
       "    <tr>\n",
       "      <th>663</th>\n",
       "      <td>2.0</td>\n",
       "      <td>2</td>\n",
       "      <td>1200.0</td>\n",
       "      <td>745.571192</td>\n",
       "      <td>Furnished</td>\n",
       "      <td>12 Hours Available</td>\n",
       "      <td>Ghatkopar</td>\n",
       "      <td>Less than 5 years</td>\n",
       "      <td>East</td>\n",
       "      <td>Family / Bachelors</td>\n",
       "      <td>Owner</td>\n",
       "      <td>9.0</td>\n",
       "      <td>0</td>\n",
       "      <td>Immediately Not Available</td>\n",
       "      <td>Main Road</td>\n",
       "      <td>0</td>\n",
       "      <td>0</td>\n",
       "      <td>65000</td>\n",
       "      <td>1</td>\n",
       "      <td>0</td>\n",
       "    </tr>\n",
       "    <tr>\n",
       "      <th>664</th>\n",
       "      <td>4.0</td>\n",
       "      <td>3</td>\n",
       "      <td>2000.0</td>\n",
       "      <td>745.571192</td>\n",
       "      <td>Unfurnished</td>\n",
       "      <td>12 Hours Available</td>\n",
       "      <td>Ghatkopar</td>\n",
       "      <td>5 to 10 years</td>\n",
       "      <td>North - East</td>\n",
       "      <td>Family / Bachelors</td>\n",
       "      <td>Agent</td>\n",
       "      <td>20.0</td>\n",
       "      <td>0</td>\n",
       "      <td>Immediately Not Available</td>\n",
       "      <td>Main Road</td>\n",
       "      <td>0</td>\n",
       "      <td>0</td>\n",
       "      <td>120000</td>\n",
       "      <td>1</td>\n",
       "      <td>0</td>\n",
       "    </tr>\n",
       "    <tr>\n",
       "      <th>665</th>\n",
       "      <td>2.0</td>\n",
       "      <td>2</td>\n",
       "      <td>800.0</td>\n",
       "      <td>800.000000</td>\n",
       "      <td>Furnished</td>\n",
       "      <td>12 Hours Available</td>\n",
       "      <td>Ghatkopar</td>\n",
       "      <td>New Construction</td>\n",
       "      <td>North - East</td>\n",
       "      <td>Family / Bachelors</td>\n",
       "      <td>Owner</td>\n",
       "      <td>19.0</td>\n",
       "      <td>0</td>\n",
       "      <td>Immediately Not Available</td>\n",
       "      <td>Pool</td>\n",
       "      <td>0</td>\n",
       "      <td>0</td>\n",
       "      <td>65000</td>\n",
       "      <td>0</td>\n",
       "      <td>0</td>\n",
       "    </tr>\n",
       "  </tbody>\n",
       "</table>\n",
       "<p>666 rows × 20 columns</p>\n",
       "</div>"
      ],
      "text/plain": [
       "     Bedroom  Bathroom  Super_area  Carpet_area Furnished_status  \\\n",
       "0        4.0         4      3000.0  2094.000000   Semi-Furnished   \n",
       "1        1.0         2       620.0   425.000000      Unfurnished   \n",
       "2        4.0         4      1800.0  1375.000000   Semi-Furnished   \n",
       "3        3.0         3      1848.0  1320.000000   Semi-Furnished   \n",
       "4        3.0         3      1400.0   980.000000      Unfurnished   \n",
       "..       ...       ...         ...          ...              ...   \n",
       "661      1.0         2       780.0   600.000000      Unfurnished   \n",
       "662      2.0         2      1850.0   745.571192   Semi-Furnished   \n",
       "663      2.0         2      1200.0   745.571192        Furnished   \n",
       "664      4.0         3      2000.0   745.571192      Unfurnished   \n",
       "665      2.0         2       800.0   800.000000        Furnished   \n",
       "\n",
       "     Water_availability   Locality Age_of_construction         Facing  \\\n",
       "0    12 Hours Available     Mulund    New Construction          North   \n",
       "1    24 Hours Available     Mulund       5 to 10 years   North - East   \n",
       "2    24 Hours Available     Mulund    New Construction           West   \n",
       "3    24 Hours Available     Mulund   Less than 5 years   North - East   \n",
       "4    24 Hours Available     Mulund    New Construction   North - East   \n",
       "..                  ...        ...                 ...            ...   \n",
       "661  12 Hours Available  Ghatkopar      Above 20 years   North - East   \n",
       "662  12 Hours Available  Ghatkopar   Less than 5 years  Not Mentioned   \n",
       "663  12 Hours Available  Ghatkopar   Less than 5 years           East   \n",
       "664  12 Hours Available  Ghatkopar       5 to 10 years   North - East   \n",
       "665  12 Hours Available  Ghatkopar    New Construction   North - East   \n",
       "\n",
       "                  Tenant  Owner  Floor  Security_deposit  \\\n",
       "0              Bachelors  Agent   15.0            500000   \n",
       "1                 Family  Agent    5.0            100000   \n",
       "2                 Family  Agent   32.0            500000   \n",
       "3                 Family  Agent   22.0            250000   \n",
       "4              Bachelors  Agent    7.0                 0   \n",
       "..                   ...    ...    ...               ...   \n",
       "661            Bachelors  Agent    3.0            100000   \n",
       "662  Family / Bachelors   Owner    9.0                 0   \n",
       "663  Family / Bachelors   Owner    9.0                 0   \n",
       "664  Family / Bachelors   Agent   20.0                 0   \n",
       "665  Family / Bachelors   Owner   19.0                 0   \n",
       "\n",
       "           Availability_status    Overlooking  Monthly_charges  Brokerage  \\\n",
       "0    Immediately Not Available    Garden/Park                0      75000   \n",
       "1        Immediately Available    Garden/Park                0          0   \n",
       "2        Immediately Available    Garden/Park            30000     112500   \n",
       "3        Immediately Available    Garden/Park                0          0   \n",
       "4        Immediately Available  Not Mentioned                0          0   \n",
       "..                         ...            ...              ...        ...   \n",
       "661  Immediately Not Available    Garden/Park             1500      30000   \n",
       "662  Immediately Not Available  Not Mentioned                0          0   \n",
       "663  Immediately Not Available      Main Road                0          0   \n",
       "664  Immediately Not Available      Main Road                0          0   \n",
       "665  Immediately Not Available           Pool                0          0   \n",
       "\n",
       "       Rent  covered_parking  open_parking  \n",
       "0     75000                0             0  \n",
       "1     25000                0             0  \n",
       "2     75000                2             0  \n",
       "3     75000                1             0  \n",
       "4     45000                0             0  \n",
       "..      ...              ...           ...  \n",
       "661   30000                0             0  \n",
       "662  110000                0             0  \n",
       "663   65000                1             0  \n",
       "664  120000                1             0  \n",
       "665   65000                0             0  \n",
       "\n",
       "[666 rows x 20 columns]"
      ]
     },
     "execution_count": 26,
     "metadata": {},
     "output_type": "execute_result"
    }
   ],
   "source": [
    "# final Dataframe after all cleaning and replacing null values \n",
    "df"
   ]
  },
  {
   "cell_type": "code",
   "execution_count": 27,
   "metadata": {},
   "outputs": [
    {
     "data": {
      "text/plain": [
       "Bedroom                0\n",
       "Bathroom               0\n",
       "Super_area             0\n",
       "Carpet_area            0\n",
       "Furnished_status       0\n",
       "Water_availability     0\n",
       "Locality               0\n",
       "Age_of_construction    0\n",
       "Facing                 0\n",
       "Tenant                 0\n",
       "Owner                  0\n",
       "Floor                  0\n",
       "Security_deposit       0\n",
       "Availability_status    0\n",
       "Overlooking            0\n",
       "Monthly_charges        0\n",
       "Brokerage              0\n",
       "Rent                   0\n",
       "covered_parking        0\n",
       "open_parking           0\n",
       "dtype: int64"
      ]
     },
     "execution_count": 27,
     "metadata": {},
     "output_type": "execute_result"
    }
   ],
   "source": [
    "df.isnull().sum()"
   ]
  },
  {
   "cell_type": "markdown",
   "metadata": {},
   "source": [
    "## Exploratory Data Analysis(EDA)"
   ]
  },
  {
   "cell_type": "markdown",
   "metadata": {},
   "source": [
    "### Bedroom "
   ]
  },
  {
   "cell_type": "code",
   "execution_count": 28,
   "metadata": {},
   "outputs": [
    {
     "data": {
      "text/plain": [
       "2.0    322\n",
       "1.0    165\n",
       "3.0    160\n",
       "4.0     19\n",
       "Name: Bedroom, dtype: int64"
      ]
     },
     "execution_count": 28,
     "metadata": {},
     "output_type": "execute_result"
    }
   ],
   "source": [
    "# number of categories in bedroom\n",
    "df['Bedroom'].value_counts()"
   ]
  },
  {
   "cell_type": "code",
   "execution_count": 29,
   "metadata": {},
   "outputs": [
    {
     "data": {
      "text/plain": [
       "count    666.000000\n",
       "mean       2.049550\n",
       "std        0.774951\n",
       "min        1.000000\n",
       "25%        2.000000\n",
       "50%        2.000000\n",
       "75%        3.000000\n",
       "max        4.000000\n",
       "Name: Bedroom, dtype: float64"
      ]
     },
     "execution_count": 29,
     "metadata": {},
     "output_type": "execute_result"
    }
   ],
   "source": [
    "# 5 point summary \n",
    "df['Bedroom'].describe()"
   ]
  },
  {
   "cell_type": "code",
   "execution_count": 30,
   "metadata": {
    "scrolled": false
   },
   "outputs": [
    {
     "data": {
      "image/png": "[encoded data removed]",
      "text/plain": [
       "<Figure size 360x360 with 1 Axes>"
      ]
     },
     "metadata": {
      "needs_background": "light"
     },
     "output_type": "display_data"
    }
   ],
   "source": [
    "plt.figure(figsize=(5,5))\n",
    "plt.bar(x = df['Bedroom'].value_counts().index , height= df['Bedroom'].value_counts().values )\n",
    "plt.xlabel('Bedroom')\n",
    "plt.xticks(ticks = [1,2,3,4] , labels=['1 bedroom' ,'2 bedroom' , '3 bedroom','4 bedroom'] , rotation = 45 )\n",
    "plt.ylabel('Number')\n",
    "plt.title('Most flats with number of bedroom ')\n",
    "plt.show()\n",
    "\n",
    "    # below graph show that the most number of 2 bedroom flats available for rent whereas the 4 bedroom are the least available flats in these areas"
   ]
  },
  {
   "cell_type": "code",
   "execution_count": 31,
   "metadata": {},
   "outputs": [
    {
     "data": {
      "image/png": "[encoded data removed]",
      "text/plain": [
       "<Figure size 360x360 with 1 Axes>"
      ]
     },
     "metadata": {
      "needs_background": "light"
     },
     "output_type": "display_data"
    }
   ],
   "source": [
    "# chart showing highest rent bedroom wise \n",
    "plt.figure(figsize=(5,5))\n",
    "plt.bar(df['Bedroom'] , df['Rent'])\n",
    "plt.xlabel('number of Bedroom')\n",
    "plt.xticks(ticks = [1,2,3,4] , labels=['1 bedroom' ,'2 bedroom' , '3 bedroom','4 bedroom'] )\n",
    "plt.ylabel('Rent in thousands')\n",
    "plt.title('Highest Rent according to bedrooms ')\n",
    "plt.show()\n",
    "\n",
    "# thus we can observe here that the highest rent in our dataset is of house with 4 bedrooms."
   ]
  },
  {
   "cell_type": "code",
   "execution_count": 32,
   "metadata": {},
   "outputs": [
    {
     "data": {
      "image/png": "[encoded data removed]",
      "text/plain": [
       "<Figure size 360x360 with 1 Axes>"
      ]
     },
     "metadata": {
      "needs_background": "light"
     },
     "output_type": "display_data"
    }
   ],
   "source": [
    "# using horizontal bar chart to average rent of house on basis of no. of bedrooms. \n",
    "x=df[['Rent','Bedroom']]\n",
    "y=x.set_index('Bedroom')\n",
    "z=y.groupby('Bedroom').mean()\n",
    "z.plot(kind='bar', figsize=(5,5))\n",
    "plt.xlabel('No. of Bedrooms') # label of X-axis.\n",
    "plt.xticks(rotation='horizontal') \n",
    "plt.ylabel('Rent') # label of Y-axis.\n",
    "plt.title('Average rent on basis of no.of bedrooms') # to give title of the bar chart.\n",
    "plt.show()\n",
    "\n",
    "# Thus we can observe that the average rent of house with 4 bedrooms is highest as expected."
   ]
  },
  {
   "cell_type": "markdown",
   "metadata": {},
   "source": [
    "### Bathroom "
   ]
  },
  {
   "cell_type": "code",
   "execution_count": 33,
   "metadata": {
    "scrolled": true
   },
   "outputs": [
    {
     "data": {
      "text/plain": [
       "2    446\n",
       "3    117\n",
       "1     88\n",
       "4     12\n",
       "5      2\n",
       "6      1\n",
       "Name: Bathroom, dtype: int64"
      ]
     },
     "execution_count": 33,
     "metadata": {},
     "output_type": "execute_result"
    }
   ],
   "source": [
    "# number of categories in bedroom\n",
    "df['Bathroom'].value_counts()"
   ]
  },
  {
   "cell_type": "code",
   "execution_count": 34,
   "metadata": {},
   "outputs": [
    {
     "data": {
      "text/plain": [
       "count    666.000000\n",
       "mean       2.094595\n",
       "std        0.650090\n",
       "min        1.000000\n",
       "25%        2.000000\n",
       "50%        2.000000\n",
       "75%        2.000000\n",
       "max        6.000000\n",
       "Name: Bathroom, dtype: float64"
      ]
     },
     "execution_count": 34,
     "metadata": {},
     "output_type": "execute_result"
    }
   ],
   "source": [
    "# 5 point summary \n",
    "df['Bathroom'].describe()"
   ]
  },
  {
   "cell_type": "code",
   "execution_count": 35,
   "metadata": {},
   "outputs": [
    {
     "data": {
      "image/png": "[encoded data removed]",
      "text/plain": [
       "<Figure size 360x360 with 1 Axes>"
      ]
     },
     "metadata": {
      "needs_background": "light"
     },
     "output_type": "display_data"
    }
   ],
   "source": [
    "\n",
    "plt.figure(figsize=(5,5))\n",
    "plt.bar(x = df['Bathroom'].value_counts().index , height= df['Bathroom'].value_counts().values )\n",
    "plt.xlabel('Bathroom')\n",
    "plt.xticks(ticks = [1,2,3,4,5,6 ] , labels=['1 Bathroom' ,'2 Bathroom' , '3 Bathroom','4 Bathroom' , '5 Bathroom' , '6 Bathroom'] , rotation = 45 )\n",
    "plt.ylabel('Number')\n",
    "plt.title('Most number of bathroom in the flats')\n",
    "plt.show()\n",
    "\n",
    "# As it is evidently seen that there are more flats with 2 bathrooms \n",
    "# This also Compliments the the above graph that of number of 2 bedroom flats being more the these areas. "
   ]
  },
  {
   "cell_type": "code",
   "execution_count": 36,
   "metadata": {},
   "outputs": [
    {
     "data": {
      "image/png": "[encoded data removed]",
      "text/plain": [
       "<Figure size 360x360 with 1 Axes>"
      ]
     },
     "metadata": {
      "needs_background": "light"
     },
     "output_type": "display_data"
    }
   ],
   "source": [
    "# using horizontal bar chart to find the average rent of house on basis of no. of bathrooms. \n",
    "x=df[['Rent','Bathroom']]\n",
    "y=x.set_index('Bathroom')\n",
    "z=y.groupby('Bathroom').mean()\n",
    "z.plot(kind='bar', figsize=(5,5))\n",
    "plt.xlabel('No. of Bathrooms') # label of X-axis.\n",
    "plt.xticks(rotation='horizontal') \n",
    "plt.ylabel('Rent') # label of Y-axis.\n",
    "plt.title('Average rent on basis of no.of Bathrooms') # to give title of the bar chart.\n",
    "plt.show()\n",
    "\n",
    "# Thus we can observe that the average rent of house with 5 bathrooms is highest rather than rent with 6 bathrooms."
   ]
  },
  {
   "cell_type": "markdown",
   "metadata": {},
   "source": [
    "### Super_area "
   ]
  },
  {
   "cell_type": "code",
   "execution_count": 37,
   "metadata": {},
   "outputs": [
    {
     "data": {
      "text/plain": [
       "count     666.000000\n",
       "mean     1049.478979\n",
       "std       435.911718\n",
       "min       100.000000\n",
       "25%       716.250000\n",
       "50%      1000.000000\n",
       "75%      1228.750000\n",
       "max      3250.000000\n",
       "Name: Super_area, dtype: float64"
      ]
     },
     "execution_count": 37,
     "metadata": {},
     "output_type": "execute_result"
    }
   ],
   "source": [
    "# 5 point summary \n",
    "df['Super_area'].describe()"
   ]
  },
  {
   "cell_type": "code",
   "execution_count": 38,
   "metadata": {
    "scrolled": true
   },
   "outputs": [
    {
     "data": {
      "image/png": "[encoded data removed]",
      "text/plain": [
       "<Figure size 720x360 with 2 Axes>"
      ]
     },
     "metadata": {
      "needs_background": "light"
     },
     "output_type": "display_data"
    }
   ],
   "source": [
    "plt.figure(figsize=(10,5))\n",
    "plt.subplot(1,2,1)\n",
    "sns.distplot(df['Super_area'] , kde = False , bins = 10)\n",
    "\n",
    "plt.subplot(1,2,2)\n",
    "sns.distplot(df['Super_area'] , hist = False )\n",
    "\n",
    "plt.show()\n",
    "\n",
    "# what is super area -> It is the total area of your flat plus the areas Covered under build up area  \n",
    "# below two are the graph conveying the same message but in a different way \n",
    "# the below graphs tell us that the distribution of the super area of the flats in these area is positively skewed \n",
    "# suggesting that maximum flats are concenterated around super area as 500 sqft to 1500 sqft"
   ]
  },
  {
   "cell_type": "code",
   "execution_count": 39,
   "metadata": {},
   "outputs": [
    {
     "data": {
      "image/png": "[encoded data removed]",
      "text/plain": [
       "<Figure size 720x720 with 1 Axes>"
      ]
     },
     "metadata": {
      "needs_background": "light"
     },
     "output_type": "display_data"
    }
   ],
   "source": [
    "plt.figure(figsize=(10,10))\n",
    "plt.boxplot(df['Super_area'] , meanline=True , showmeans=True,)\n",
    "plt.show()"
   ]
  },
  {
   "cell_type": "markdown",
   "metadata": {},
   "source": [
    "### Carpet_area "
   ]
  },
  {
   "cell_type": "code",
   "execution_count": 40,
   "metadata": {},
   "outputs": [
    {
     "data": {
      "text/plain": [
       "count     666.000000\n",
       "mean      745.571192\n",
       "std       277.177563\n",
       "min       180.000000\n",
       "25%       565.750000\n",
       "50%       727.000000\n",
       "75%       805.000000\n",
       "max      2200.000000\n",
       "Name: Carpet_area, dtype: float64"
      ]
     },
     "execution_count": 40,
     "metadata": {},
     "output_type": "execute_result"
    }
   ],
   "source": [
    "# 5 point summary \n",
    "df['Carpet_area'].describe()"
   ]
  },
  {
   "cell_type": "code",
   "execution_count": 41,
   "metadata": {},
   "outputs": [
    {
     "data": {
      "image/png": "[encoded data removed]",
      "text/plain": [
       "<Figure size 720x360 with 2 Axes>"
      ]
     },
     "metadata": {
      "needs_background": "light"
     },
     "output_type": "display_data"
    }
   ],
   "source": [
    "plt.figure(figsize=(10,5))\n",
    "plt.subplot(1,2,1)\n",
    "sns.distplot(df['Carpet_area'] , kde = False , bins = 10)\n",
    "\n",
    "plt.subplot(1,2,2)\n",
    "sns.distplot(df['Carpet_area'] , hist = False)\n",
    "plt.show()\n",
    "\n",
    "# below two are the graph conveying the same message but in a different way \n",
    "# the below graphs tell us that the distribution of the carpet area of the flats in these area is positively skewed \n",
    "# suggesting that maximum flats are concenterated around 500 sqft to 800 sqft"
   ]
  },
  {
   "cell_type": "code",
   "execution_count": 42,
   "metadata": {},
   "outputs": [
    {
     "data": {
      "image/png": "[encoded data removed]",
      "text/plain": [
       "<Figure size 720x720 with 1 Axes>"
      ]
     },
     "metadata": {
      "needs_background": "light"
     },
     "output_type": "display_data"
    }
   ],
   "source": [
    "plt.figure(figsize=(10,10))\n",
    "plt.boxplot(df['Carpet_area'] , meanline=True , showmeans=True,)\n",
    "plt.show()"
   ]
  },
  {
   "cell_type": "markdown",
   "metadata": {},
   "source": [
    "### Furnished_status"
   ]
  },
  {
   "cell_type": "code",
   "execution_count": 43,
   "metadata": {},
   "outputs": [
    {
     "data": {
      "text/plain": [
       "Semi-Furnished    325\n",
       "Unfurnished       250\n",
       "Furnished          91\n",
       "Name: Furnished_status, dtype: int64"
      ]
     },
     "execution_count": 43,
     "metadata": {},
     "output_type": "execute_result"
    }
   ],
   "source": [
    "df['Furnished_status'].value_counts()"
   ]
  },
  {
   "cell_type": "code",
   "execution_count": 44,
   "metadata": {},
   "outputs": [
    {
     "data": {
      "text/plain": [
       "count                666\n",
       "unique                 3\n",
       "top       Semi-Furnished\n",
       "freq                 325\n",
       "Name: Furnished_status, dtype: object"
      ]
     },
     "execution_count": 44,
     "metadata": {},
     "output_type": "execute_result"
    }
   ],
   "source": [
    "# 5 point summary \n",
    "df['Furnished_status'].describe()"
   ]
  },
  {
   "cell_type": "code",
   "execution_count": 45,
   "metadata": {},
   "outputs": [
    {
     "data": {
      "image/png": "[encoded data removed]",
      "text/plain": [
       "<Figure size 360x360 with 1 Axes>"
      ]
     },
     "metadata": {},
     "output_type": "display_data"
    }
   ],
   "source": [
    "plt.figure(figsize=(5,5))\n",
    "plt.pie(df['Furnished_status'].value_counts().values , labels = df['Furnished_status'].value_counts().index , startangle=30 , explode=(0.05,0.05,0.05) , autopct='%1.f%%' , shadow=True  )\n",
    "plt.title('Types of Furnished flats')\n",
    "plt.show()\n",
    "\n",
    "# the followiing pie gives us better idea that a large chunck of flats are semi - furnished.\n",
    "# also tells us that the least number of flats are furnished"
   ]
  },
  {
   "cell_type": "code",
   "execution_count": 46,
   "metadata": {},
   "outputs": [
    {
     "data": {
      "image/png": "[encoded data removed]",
      "text/plain": [
       "<Figure size 360x360 with 1 Axes>"
      ]
     },
     "metadata": {
      "needs_background": "light"
     },
     "output_type": "display_data"
    }
   ],
   "source": [
    "#finding highest rent according to furnished status.\n",
    "plt.figure(figsize=(5,5))\n",
    "plt.bar(df['Furnished_status'] , df['Rent'])\n",
    "plt.xlabel('Furnisher')\n",
    "plt.ylabel('Rent in thousands')\n",
    "plt.title('Highest Rent according to furniture status')\n",
    "plt.show()\n",
    "\n",
    "# The highest rent is our dataset is of semi-furnished flat."
   ]
  },
  {
   "cell_type": "code",
   "execution_count": 47,
   "metadata": {},
   "outputs": [
    {
     "data": {
      "image/png": "[encoded data removed]",
      "text/plain": [
       "<Figure size 360x360 with 1 Axes>"
      ]
     },
     "metadata": {
      "needs_background": "light"
     },
     "output_type": "display_data"
    }
   ],
   "source": [
    "# using horizontal bar chart to average rent of house on basis of status of furnishing. \n",
    "x=df[['Rent','Furnished_status']]\n",
    "y=x.set_index('Furnished_status')\n",
    "z=y.groupby('Furnished_status').mean()\n",
    "z.plot(kind='bar', figsize=(5,5))\n",
    "plt.xlabel('Furnished status') # label of X-axis.\n",
    "plt.xticks(rotation='horizontal') \n",
    "plt.ylabel('Rent') # label of Y-axis.\n",
    "plt.title('Average rent on basis of status of furnishing') # to give title of the bar chart.\n",
    "plt.show()\n",
    "\n",
    "# Thus we can observe that the average rent of furnished flats is highest, followed by semi-furnished and unfurnished."
   ]
  },
  {
   "cell_type": "markdown",
   "metadata": {},
   "source": [
    "### Water_availability"
   ]
  },
  {
   "cell_type": "code",
   "execution_count": 48,
   "metadata": {},
   "outputs": [
    {
     "data": {
      "text/plain": [
       "24 Hours Available    489\n",
       "12 Hours Available    177\n",
       "Name: Water_availability, dtype: int64"
      ]
     },
     "execution_count": 48,
     "metadata": {},
     "output_type": "execute_result"
    }
   ],
   "source": [
    "df['Water_availability'].value_counts()"
   ]
  },
  {
   "cell_type": "code",
   "execution_count": 49,
   "metadata": {},
   "outputs": [
    {
     "data": {
      "text/plain": [
       "count                    666\n",
       "unique                     2\n",
       "top       24 Hours Available\n",
       "freq                     489\n",
       "Name: Water_availability, dtype: object"
      ]
     },
     "execution_count": 49,
     "metadata": {},
     "output_type": "execute_result"
    }
   ],
   "source": [
    "# 5 point summary \n",
    "df['Water_availability'].describe()"
   ]
  },
  {
   "cell_type": "code",
   "execution_count": 50,
   "metadata": {},
   "outputs": [
    {
     "data": {
      "image/png": "[encoded data removed]",
      "text/plain": [
       "<Figure size 576x216 with 1 Axes>"
      ]
     },
     "metadata": {
      "needs_background": "light"
     },
     "output_type": "display_data"
    }
   ],
   "source": [
    "plt.figure(figsize=(8,3))\n",
    "plt.barh(y = df['Water_availability'].value_counts().index , width= df['Water_availability'].value_counts().values )\n",
    "plt.ylabel('Water_availability')\n",
    "plt.xlabel('Number')\n",
    "plt.title('Water_availability in a flats')\n",
    "plt.show()\n",
    "\n",
    "# from this we get a better understanding that most of the flats available have 24 hrs water available to the flats "
   ]
  },
  {
   "cell_type": "markdown",
   "metadata": {},
   "source": [
    "### Locality"
   ]
  },
  {
   "cell_type": "code",
   "execution_count": 51,
   "metadata": {},
   "outputs": [
    {
     "data": {
      "text/plain": [
       "Mulund       188\n",
       "Thane        172\n",
       "Ghatkopar    170\n",
       "Bhandup      136\n",
       "Name: Locality, dtype: int64"
      ]
     },
     "execution_count": 51,
     "metadata": {},
     "output_type": "execute_result"
    }
   ],
   "source": [
    "df['Locality'].value_counts()"
   ]
  },
  {
   "cell_type": "code",
   "execution_count": 52,
   "metadata": {},
   "outputs": [
    {
     "data": {
      "text/plain": [
       "count        666\n",
       "unique         4\n",
       "top       Mulund\n",
       "freq         188\n",
       "Name: Locality, dtype: object"
      ]
     },
     "execution_count": 52,
     "metadata": {},
     "output_type": "execute_result"
    }
   ],
   "source": [
    "# 5 point summary \n",
    "df['Locality'].describe()"
   ]
  },
  {
   "cell_type": "code",
   "execution_count": 53,
   "metadata": {},
   "outputs": [
    {
     "data": {
      "image/png": "[encoded data removed]",
      "text/plain": [
       "<Figure size 360x360 with 1 Axes>"
      ]
     },
     "metadata": {},
     "output_type": "display_data"
    }
   ],
   "source": [
    "plt.figure(figsize=(5,5))\n",
    "plt.pie(df['Locality'].value_counts().values , labels = df['Locality'].value_counts().index , startangle=270 , explode=(0.1,0,0,0) , autopct='%1.f%%' , shadow=True  )\n",
    "plt.title('Locality')\n",
    "plt.show()\n",
    "\n",
    "# most of the flats in this data are of the locality Mulund \n",
    "# but as you can see there isnt much difference between them as they are approximately equally distributed"
   ]
  },
  {
   "cell_type": "code",
   "execution_count": 54,
   "metadata": {},
   "outputs": [
    {
     "data": {
      "image/png": "[encoded data removed]",
      "text/plain": [
       "<Figure size 360x360 with 1 Axes>"
      ]
     },
     "metadata": {
      "needs_background": "light"
     },
     "output_type": "display_data"
    }
   ],
   "source": [
    "#Finding highest rent in each locality\n",
    "plt.figure(figsize=(5,5))\n",
    "plt.bar(df['Locality'] , df['Rent'])\n",
    "plt.xlabel('Locality')\n",
    "plt.ylabel('Rent in thousands')\n",
    "plt.title('Rent according to Locality ')\n",
    "plt.show()\n",
    "\n",
    "# thus we can observe here that highest rent in our dataset is of house located at ghatkopar where as the least amount is paid in bhandup. "
   ]
  },
  {
   "cell_type": "code",
   "execution_count": 55,
   "metadata": {},
   "outputs": [
    {
     "data": {
      "image/png": "[encoded data removed]",
      "text/plain": [
       "<Figure size 360x360 with 1 Axes>"
      ]
     },
     "metadata": {
      "needs_background": "light"
     },
     "output_type": "display_data"
    }
   ],
   "source": [
    "# using horizontal bar chart to average rent of house on basis of locality. \n",
    "x=df[['Rent','Locality']]\n",
    "y=x.set_index('Locality')\n",
    "z=y.groupby('Locality').mean()\n",
    "z.plot(kind='bar', figsize=(5,5))\n",
    "plt.xlabel('Locality') # label of X-axis.\n",
    "plt.xticks(rotation='horizontal') \n",
    "plt.ylabel('Rent') # label of Y-axis.\n",
    "plt.title('Average rent on basis of locality') # to give title of the bar chart.\n",
    "plt.show()\n",
    "# Thus, average rent is higher in Ghatkopar, followed by Mulund, Bhandup and Thane."
   ]
  },
  {
   "cell_type": "markdown",
   "metadata": {},
   "source": [
    "### Age_of_construction"
   ]
  },
  {
   "cell_type": "code",
   "execution_count": 56,
   "metadata": {},
   "outputs": [
    {
     "data": {
      "text/plain": [
       "Less than 5 years    254\n",
       "5 to 10 years        140\n",
       "New Construction     134\n",
       "10 to 15 years        60\n",
       "Above 20 years        50\n",
       "15 to 20 years        28\n",
       "Name: Age_of_construction, dtype: int64"
      ]
     },
     "execution_count": 56,
     "metadata": {},
     "output_type": "execute_result"
    }
   ],
   "source": [
    "df['Age_of_construction'].value_counts()"
   ]
  },
  {
   "cell_type": "code",
   "execution_count": 57,
   "metadata": {},
   "outputs": [
    {
     "data": {
      "image/png": "[encoded data removed]",
      "text/plain": [
       "<Figure size 360x360 with 1 Axes>"
      ]
     },
     "metadata": {
      "needs_background": "light"
     },
     "output_type": "display_data"
    }
   ],
   "source": [
    "plt.figure(figsize=(5,5))\n",
    "plt.barh(y = df['Age_of_construction'].value_counts().index , width= df['Age_of_construction'].value_counts().values )\n",
    "plt.ylabel('Age of construction')\n",
    "plt.xlabel('Number')\n",
    "plt.title('Age of construction a flats')\n",
    "plt.show()\n",
    "\n",
    "# As these areas are developing exponentially, therefore as expected most of the building must be new \n",
    "# the following graph supports this claim as you see that most buliding are less than 5 years old "
   ]
  },
  {
   "cell_type": "code",
   "execution_count": 58,
   "metadata": {},
   "outputs": [
    {
     "data": {
      "image/png": "[encoded data removed]",
      "text/plain": [
       "<Figure size 360x360 with 1 Axes>"
      ]
     },
     "metadata": {
      "needs_background": "light"
     },
     "output_type": "display_data"
    }
   ],
   "source": [
    "# using horizontal bar chart to average rent of house on basis of age of construction. \n",
    "x=df[['Rent','Age_of_construction']]\n",
    "y=x.set_index('Age_of_construction')\n",
    "z=y.groupby('Age_of_construction').mean()\n",
    "z.plot(kind='bar', figsize=(5,5))\n",
    "plt.xlabel('Age_of_construction') # label of X-axis.\n",
    "plt.xticks(rotation='vertical') \n",
    "plt.ylabel('Rent') # label of Y-axis.\n",
    "plt.title('Average rent on basis of Age of construction') # to give title of the bar chart.\n",
    "plt.show()\n",
    "\n",
    "# The average rent is higher among flats with new construction, followed by less than 5 years."
   ]
  },
  {
   "cell_type": "markdown",
   "metadata": {},
   "source": [
    "### Facing"
   ]
  },
  {
   "cell_type": "code",
   "execution_count": 59,
   "metadata": {},
   "outputs": [
    {
     "data": {
      "text/plain": [
       "East             317\n",
       "North - East     125\n",
       "Not Mentioned     77\n",
       "North             50\n",
       "West              41\n",
       "North - West      33\n",
       "South              9\n",
       "South - East       8\n",
       "South -West        6\n",
       "Name: Facing, dtype: int64"
      ]
     },
     "execution_count": 59,
     "metadata": {},
     "output_type": "execute_result"
    }
   ],
   "source": [
    "df['Facing'].value_counts()"
   ]
  },
  {
   "cell_type": "code",
   "execution_count": 60,
   "metadata": {},
   "outputs": [
    {
     "data": {
      "image/png": "[encoded data removed]",
      "text/plain": [
       "<Figure size 720x360 with 1 Axes>"
      ]
     },
     "metadata": {
      "needs_background": "light"
     },
     "output_type": "display_data"
    }
   ],
   "source": [
    "plt.figure(figsize=(10,5))\n",
    "plt.bar(x = df['Facing'].value_counts().index , height= df['Facing'].value_counts().values )\n",
    "plt.xlabel('Directions')\n",
    "plt.xticks( rotation = 45 )\n",
    "plt.ylabel('Number')\n",
    "plt.title('Most desired Facing of a flats')\n",
    "plt.show()\n",
    "\n",
    "# As this being India ,most of the people are supersitious while renting or buying houses \n",
    "# The most common belief is that the flat entry facing in the north direction is considered lucky \n",
    "# But as you see in the following graph most of the flats are facing east \n",
    "# the question that arises is Facing a factor in deciding the rent of the flat ?"
   ]
  },
  {
   "cell_type": "code",
   "execution_count": 61,
   "metadata": {},
   "outputs": [
    {
     "data": {
      "image/png": "[encoded data removed]",
      "text/plain": [
       "<Figure size 576x576 with 1 Axes>"
      ]
     },
     "metadata": {
      "needs_background": "light"
     },
     "output_type": "display_data"
    }
   ],
   "source": [
    "plt.figure(figsize=(8,8))\n",
    "plt.bar(df['Facing'] , df['Rent'])\n",
    "plt.xlabel('Facing directions')\n",
    "plt.xticks(rotation = 45)\n",
    "plt.ylabel('Rent in thousands')\n",
    "plt.title('Rent according to Facing ')\n",
    "plt.show()\n",
    "\n",
    "#Highest rent in our dataset is of flat facing East.\n"
   ]
  },
  {
   "cell_type": "code",
   "execution_count": 62,
   "metadata": {},
   "outputs": [
    {
     "data": {
      "image/png": "[encoded data removed]",
      "text/plain": [
       "<Figure size 576x576 with 1 Axes>"
      ]
     },
     "metadata": {
      "needs_background": "light"
     },
     "output_type": "display_data"
    }
   ],
   "source": [
    "# using horizontal bar chart to average rent of house on basis of status of furnishing. \n",
    "x=df[['Rent','Facing']]\n",
    "y=x.set_index('Facing')\n",
    "z=y.groupby('Facing').mean()\n",
    "z.plot(kind='bar', figsize=(8,8))\n",
    "plt.xlabel('Facing') # label of X-axis.\n",
    "plt.xticks(rotation='45') \n",
    "plt.ylabel('Rent') # label of Y-axis.\n",
    "plt.title('Average rent on basis of facing direction of house') # to give title of the bar chart.\n",
    "plt.show()\n",
    "# so contrary to popular belief the rent also seems to be higher in south-west facing flats \n",
    "# well to take a positive note from this is lets just say people have stopped believing in superstitions \n",
    "# or well they have no choice afterall when it comes to choosing between less rent or facing of the flat "
   ]
  },
  {
   "cell_type": "markdown",
   "metadata": {},
   "source": [
    "### Tenant"
   ]
  },
  {
   "cell_type": "code",
   "execution_count": 63,
   "metadata": {},
   "outputs": [
    {
     "data": {
      "text/plain": [
       "Family / Bachelors     300\n",
       "Bachelors              209\n",
       "Family                 157\n",
       "Name: Tenant, dtype: int64"
      ]
     },
     "execution_count": 63,
     "metadata": {},
     "output_type": "execute_result"
    }
   ],
   "source": [
    "df['Tenant'].value_counts()"
   ]
  },
  {
   "cell_type": "code",
   "execution_count": 64,
   "metadata": {},
   "outputs": [
    {
     "data": {
      "image/png": "[encoded data removed]",
      "text/plain": [
       "<Figure size 360x360 with 1 Axes>"
      ]
     },
     "metadata": {},
     "output_type": "display_data"
    }
   ],
   "source": [
    "plt.figure(figsize=(5,5))\n",
    "plt.pie(df['Tenant'].value_counts().values , labels = df['Tenant'].value_counts().index , startangle=270 , explode=(0.1,0,0) , autopct='%1.f%%' , shadow=True  )\n",
    "plt.title('Tenant')\n",
    "plt.show()\n",
    "\n",
    "# most of the owners have no preference over whom the flat is rented to \n",
    "# whereas least amount of people prefer family "
   ]
  },
  {
   "cell_type": "markdown",
   "metadata": {},
   "source": [
    "### Owner"
   ]
  },
  {
   "cell_type": "code",
   "execution_count": 65,
   "metadata": {},
   "outputs": [
    {
     "data": {
      "text/plain": [
       "Agent    527\n",
       "Owner    139\n",
       "Name: Owner, dtype: int64"
      ]
     },
     "execution_count": 65,
     "metadata": {},
     "output_type": "execute_result"
    }
   ],
   "source": [
    "df['Owner'].value_counts()"
   ]
  },
  {
   "cell_type": "code",
   "execution_count": 66,
   "metadata": {},
   "outputs": [
    {
     "data": {
      "image/png": "[encoded data removed]",
      "text/plain": [
       "<Figure size 360x360 with 1 Axes>"
      ]
     },
     "metadata": {
      "needs_background": "light"
     },
     "output_type": "display_data"
    }
   ],
   "source": [
    "plt.figure(figsize=(5,5))\n",
    "plt.barh(y = df['Owner'].value_counts().index , width= df['Owner'].value_counts().values )\n",
    "plt.title('Flat is on rent by owner or agent')\n",
    "plt.show()\n",
    "\n",
    "# most of the flats are under the control of agents as it is common practice "
   ]
  },
  {
   "cell_type": "markdown",
   "metadata": {},
   "source": [
    "### Floor"
   ]
  },
  {
   "cell_type": "code",
   "execution_count": 67,
   "metadata": {},
   "outputs": [
    {
     "data": {
      "text/plain": [
       "count    666.000000\n",
       "mean       8.861862\n",
       "std        6.615463\n",
       "min        0.000000\n",
       "25%        4.000000\n",
       "50%        7.000000\n",
       "75%       12.000000\n",
       "max       35.000000\n",
       "Name: Floor, dtype: float64"
      ]
     },
     "execution_count": 67,
     "metadata": {},
     "output_type": "execute_result"
    }
   ],
   "source": [
    "df['Floor'].describe()"
   ]
  },
  {
   "cell_type": "code",
   "execution_count": 68,
   "metadata": {},
   "outputs": [
    {
     "data": {
      "image/png": "[encoded data removed]",
      "text/plain": [
       "<Figure size 720x360 with 2 Axes>"
      ]
     },
     "metadata": {
      "needs_background": "light"
     },
     "output_type": "display_data"
    }
   ],
   "source": [
    "plt.figure(figsize=(10,5))\n",
    "plt.subplot(1,2,1)\n",
    "sns.distplot(df['Floor'] , kde = False , bins = 10)\n",
    "\n",
    "plt.subplot(1,2,2)\n",
    "sns.distplot(df['Floor'] , hist = False)\n",
    "plt.show()\n",
    "\n",
    "# below two are the graph conveying the same message but in a different way \n",
    "# the below graphs tell us that the distribution of the floor on which the flats are in these area is positively skewed \n",
    "# suggesting that maximum flats are concenterated around 5 to 8 floors"
   ]
  },
  {
   "cell_type": "markdown",
   "metadata": {},
   "source": [
    "### Availability_status"
   ]
  },
  {
   "cell_type": "code",
   "execution_count": 69,
   "metadata": {},
   "outputs": [
    {
     "data": {
      "text/plain": [
       "Immediately Available        491\n",
       "Immediately Not Available    175\n",
       "Name: Availability_status, dtype: int64"
      ]
     },
     "execution_count": 69,
     "metadata": {},
     "output_type": "execute_result"
    }
   ],
   "source": [
    "df['Availability_status'].value_counts()"
   ]
  },
  {
   "cell_type": "code",
   "execution_count": 70,
   "metadata": {},
   "outputs": [
    {
     "data": {
      "image/png": "[encoded data removed]",
      "text/plain": [
       "<Figure size 360x360 with 1 Axes>"
      ]
     },
     "metadata": {
      "needs_background": "light"
     },
     "output_type": "display_data"
    }
   ],
   "source": [
    "plt.figure(figsize=(5,5))\n",
    "plt.bar(x = df['Availability_status'].value_counts().index , height= df['Availability_status'].value_counts().values )\n",
    "plt.xlabel('Availability')\n",
    "plt.ylabel('Number')\n",
    "plt.title('Availability status of flats')\n",
    "plt.show()\n",
    "\n",
    "# most of the flats are immediately available "
   ]
  },
  {
   "cell_type": "markdown",
   "metadata": {},
   "source": [
    "### Overlooking"
   ]
  },
  {
   "cell_type": "code",
   "execution_count": 71,
   "metadata": {
    "scrolled": true
   },
   "outputs": [
    {
     "data": {
      "text/plain": [
       "Garden/Park      367\n",
       "Main Road        148\n",
       "Not Mentioned    127\n",
       "Pool              24\n",
       "Name: Overlooking, dtype: int64"
      ]
     },
     "execution_count": 71,
     "metadata": {},
     "output_type": "execute_result"
    }
   ],
   "source": [
    "df['Overlooking'].value_counts()"
   ]
  },
  {
   "cell_type": "code",
   "execution_count": 72,
   "metadata": {},
   "outputs": [
    {
     "data": {
      "image/png": "[encoded data removed]",
      "text/plain": [
       "<Figure size 360x360 with 1 Axes>"
      ]
     },
     "metadata": {},
     "output_type": "display_data"
    }
   ],
   "source": [
    "plt.figure(figsize=(5,5))\n",
    "plt.pie(df['Overlooking'].value_counts().values , labels = df['Overlooking'].value_counts().index , startangle=270 , explode=(0.1,0,0,0) , autopct='%1.f%%' , shadow=True  )\n",
    "plt.title('View')\n",
    "plt.show()\n",
    "\n",
    "# a lot of people desire a great view to look at when they wake up in the morning thus overlooking play a factor in choosing a place\n",
    "# As it is seen that most of the flats have a garden/park view to the flats "
   ]
  },
  {
   "cell_type": "markdown",
   "metadata": {},
   "source": [
    "### Rent"
   ]
  },
  {
   "cell_type": "code",
   "execution_count": 73,
   "metadata": {
    "scrolled": true
   },
   "outputs": [
    {
     "data": {
      "text/plain": [
       "count       666.000000\n",
       "mean      38485.222222\n",
       "std       19777.890659\n",
       "min        3500.000000\n",
       "25%       25000.000000\n",
       "50%       35000.000000\n",
       "75%       47000.000000\n",
       "max      135000.000000\n",
       "Name: Rent, dtype: float64"
      ]
     },
     "execution_count": 73,
     "metadata": {},
     "output_type": "execute_result"
    }
   ],
   "source": [
    "df['Rent'].describe()"
   ]
  },
  {
   "cell_type": "code",
   "execution_count": 74,
   "metadata": {},
   "outputs": [
    {
     "data": {
      "image/png": "[encoded data removed]",
      "text/plain": [
       "<Figure size 720x360 with 1 Axes>"
      ]
     },
     "metadata": {
      "needs_background": "light"
     },
     "output_type": "display_data"
    }
   ],
   "source": [
    "plt.figure(figsize=(10,5))\n",
    "plt.boxplot(df['Rent'] , meanline=True , showmeans=True)\n",
    "plt.show()"
   ]
  },
  {
   "cell_type": "code",
   "execution_count": 75,
   "metadata": {},
   "outputs": [
    {
     "data": {
      "image/png": "[encoded data removed]",
      "text/plain": [
       "<Figure size 1080x360 with 2 Axes>"
      ]
     },
     "metadata": {
      "needs_background": "light"
     },
     "output_type": "display_data"
    }
   ],
   "source": [
    "plt.figure(figsize=(15,5))\n",
    "plt.subplot(1,2,1)\n",
    "sns.distplot(df['Rent'] , kde = False , bins = 10)\n",
    "\n",
    "plt.subplot(1,2,2)\n",
    "sns.distplot(df['Rent'] , hist = False)\n",
    "\n",
    "plt.show()\n",
    "#The below graphs tell us that the distribution of the Rent of the flats in these area is positively skewed \n",
    "#Suggesting that maximum Rent of flats are concentrated around Rs. 25,000 to Rs. 50,000.\n"
   ]
  },
  {
   "cell_type": "code",
   "execution_count": 76,
   "metadata": {},
   "outputs": [
    {
     "data": {
      "image/png": "[encoded data removed]",
      "text/plain": [
       "<Figure size 1080x1080 with 15 Axes>"
      ]
     },
     "metadata": {
      "needs_background": "light"
     },
     "output_type": "display_data"
    }
   ],
   "source": [
    "df.hist(layout=(5,3),figsize=(15,15))\n",
    "plt.show()"
   ]
  },
  {
   "cell_type": "markdown",
   "metadata": {},
   "source": [
    "#### creating  a checkpoint for data"
   ]
  },
  {
   "cell_type": "code",
   "execution_count": 77,
   "metadata": {},
   "outputs": [],
   "source": [
    "# df.to_excel('Clean_and_imputed_data' , engine='xlsxwriter')\n",
    "df.to_csv(\"Clean_data.csv\")"
   ]
  },
  {
   "cell_type": "code",
   "execution_count": 80,
   "metadata": {},
   "outputs": [
    {
     "name": "stdout",
     "output_type": "stream",
     "text": [
      " Clean_data.csv      'Model Generator rough.ipynb'  \u001b[0m\u001b[01;34m'Web Scarpping'\u001b[0m/\r\n",
      " Data.xlsx            Rent_Prediction.ipynb\r\n",
      "\u001b[01;35m'linkedin post.JPG'\u001b[0m   synopsis.txt\r\n"
     ]
    }
   ],
   "source": [
    "ls"
   ]
  },
  {
   "cell_type": "code",
   "execution_count": 81,
   "metadata": {},
   "outputs": [
    {
     "data": {
      "text/html": [
       "<div>\n",
       "<style scoped>\n",
       "    .dataframe tbody tr th:only-of-type {\n",
       "        vertical-align: middle;\n",
       "    }\n",
       "\n",
       "    .dataframe tbody tr th {\n",
       "        vertical-align: top;\n",
       "    }\n",
       "\n",
       "    .dataframe thead th {\n",
       "        text-align: right;\n",
       "    }\n",
       "</style>\n",
       "<table border=\"1\" class=\"dataframe\">\n",
       "  <thead>\n",
       "    <tr style=\"text-align: right;\">\n",
       "      <th></th>\n",
       "      <th>Bedroom</th>\n",
       "      <th>Bathroom</th>\n",
       "      <th>Super_area</th>\n",
       "      <th>Carpet_area</th>\n",
       "      <th>Floor</th>\n",
       "      <th>Security_deposit</th>\n",
       "      <th>Monthly_charges</th>\n",
       "      <th>Brokerage</th>\n",
       "      <th>Rent</th>\n",
       "      <th>covered_parking</th>\n",
       "      <th>...</th>\n",
       "      <th>Water_availability_24 Hours Available</th>\n",
       "      <th>Facing_North</th>\n",
       "      <th>Facing_North - East</th>\n",
       "      <th>Facing_North - West</th>\n",
       "      <th>Facing_Not Mentioned</th>\n",
       "      <th>Facing_South</th>\n",
       "      <th>Facing_South - East</th>\n",
       "      <th>Facing_South -West</th>\n",
       "      <th>Facing_West</th>\n",
       "      <th>Owner_Owner</th>\n",
       "    </tr>\n",
       "  </thead>\n",
       "  <tbody>\n",
       "    <tr>\n",
       "      <th>0</th>\n",
       "      <td>4.0</td>\n",
       "      <td>4</td>\n",
       "      <td>3000.0</td>\n",
       "      <td>2094.000000</td>\n",
       "      <td>15.0</td>\n",
       "      <td>500000</td>\n",
       "      <td>0</td>\n",
       "      <td>75000</td>\n",
       "      <td>75000</td>\n",
       "      <td>0</td>\n",
       "      <td>...</td>\n",
       "      <td>0</td>\n",
       "      <td>1</td>\n",
       "      <td>0</td>\n",
       "      <td>0</td>\n",
       "      <td>0</td>\n",
       "      <td>0</td>\n",
       "      <td>0</td>\n",
       "      <td>0</td>\n",
       "      <td>0</td>\n",
       "      <td>0</td>\n",
       "    </tr>\n",
       "    <tr>\n",
       "      <th>1</th>\n",
       "      <td>1.0</td>\n",
       "      <td>2</td>\n",
       "      <td>620.0</td>\n",
       "      <td>425.000000</td>\n",
       "      <td>5.0</td>\n",
       "      <td>100000</td>\n",
       "      <td>0</td>\n",
       "      <td>0</td>\n",
       "      <td>25000</td>\n",
       "      <td>0</td>\n",
       "      <td>...</td>\n",
       "      <td>1</td>\n",
       "      <td>0</td>\n",
       "      <td>1</td>\n",
       "      <td>0</td>\n",
       "      <td>0</td>\n",
       "      <td>0</td>\n",
       "      <td>0</td>\n",
       "      <td>0</td>\n",
       "      <td>0</td>\n",
       "      <td>0</td>\n",
       "    </tr>\n",
       "    <tr>\n",
       "      <th>2</th>\n",
       "      <td>4.0</td>\n",
       "      <td>4</td>\n",
       "      <td>1800.0</td>\n",
       "      <td>1375.000000</td>\n",
       "      <td>32.0</td>\n",
       "      <td>500000</td>\n",
       "      <td>30000</td>\n",
       "      <td>112500</td>\n",
       "      <td>75000</td>\n",
       "      <td>2</td>\n",
       "      <td>...</td>\n",
       "      <td>1</td>\n",
       "      <td>0</td>\n",
       "      <td>0</td>\n",
       "      <td>0</td>\n",
       "      <td>0</td>\n",
       "      <td>0</td>\n",
       "      <td>0</td>\n",
       "      <td>0</td>\n",
       "      <td>1</td>\n",
       "      <td>0</td>\n",
       "    </tr>\n",
       "    <tr>\n",
       "      <th>3</th>\n",
       "      <td>3.0</td>\n",
       "      <td>3</td>\n",
       "      <td>1848.0</td>\n",
       "      <td>1320.000000</td>\n",
       "      <td>22.0</td>\n",
       "      <td>250000</td>\n",
       "      <td>0</td>\n",
       "      <td>0</td>\n",
       "      <td>75000</td>\n",
       "      <td>1</td>\n",
       "      <td>...</td>\n",
       "      <td>1</td>\n",
       "      <td>0</td>\n",
       "      <td>1</td>\n",
       "      <td>0</td>\n",
       "      <td>0</td>\n",
       "      <td>0</td>\n",
       "      <td>0</td>\n",
       "      <td>0</td>\n",
       "      <td>0</td>\n",
       "      <td>0</td>\n",
       "    </tr>\n",
       "    <tr>\n",
       "      <th>4</th>\n",
       "      <td>3.0</td>\n",
       "      <td>3</td>\n",
       "      <td>1400.0</td>\n",
       "      <td>980.000000</td>\n",
       "      <td>7.0</td>\n",
       "      <td>0</td>\n",
       "      <td>0</td>\n",
       "      <td>0</td>\n",
       "      <td>45000</td>\n",
       "      <td>0</td>\n",
       "      <td>...</td>\n",
       "      <td>1</td>\n",
       "      <td>0</td>\n",
       "      <td>1</td>\n",
       "      <td>0</td>\n",
       "      <td>0</td>\n",
       "      <td>0</td>\n",
       "      <td>0</td>\n",
       "      <td>0</td>\n",
       "      <td>0</td>\n",
       "      <td>0</td>\n",
       "    </tr>\n",
       "    <tr>\n",
       "      <th>...</th>\n",
       "      <td>...</td>\n",
       "      <td>...</td>\n",
       "      <td>...</td>\n",
       "      <td>...</td>\n",
       "      <td>...</td>\n",
       "      <td>...</td>\n",
       "      <td>...</td>\n",
       "      <td>...</td>\n",
       "      <td>...</td>\n",
       "      <td>...</td>\n",
       "      <td>...</td>\n",
       "      <td>...</td>\n",
       "      <td>...</td>\n",
       "      <td>...</td>\n",
       "      <td>...</td>\n",
       "      <td>...</td>\n",
       "      <td>...</td>\n",
       "      <td>...</td>\n",
       "      <td>...</td>\n",
       "      <td>...</td>\n",
       "      <td>...</td>\n",
       "    </tr>\n",
       "    <tr>\n",
       "      <th>661</th>\n",
       "      <td>1.0</td>\n",
       "      <td>2</td>\n",
       "      <td>780.0</td>\n",
       "      <td>600.000000</td>\n",
       "      <td>3.0</td>\n",
       "      <td>100000</td>\n",
       "      <td>1500</td>\n",
       "      <td>30000</td>\n",
       "      <td>30000</td>\n",
       "      <td>0</td>\n",
       "      <td>...</td>\n",
       "      <td>0</td>\n",
       "      <td>0</td>\n",
       "      <td>1</td>\n",
       "      <td>0</td>\n",
       "      <td>0</td>\n",
       "      <td>0</td>\n",
       "      <td>0</td>\n",
       "      <td>0</td>\n",
       "      <td>0</td>\n",
       "      <td>0</td>\n",
       "    </tr>\n",
       "    <tr>\n",
       "      <th>662</th>\n",
       "      <td>2.0</td>\n",
       "      <td>2</td>\n",
       "      <td>1850.0</td>\n",
       "      <td>745.571192</td>\n",
       "      <td>9.0</td>\n",
       "      <td>0</td>\n",
       "      <td>0</td>\n",
       "      <td>0</td>\n",
       "      <td>110000</td>\n",
       "      <td>0</td>\n",
       "      <td>...</td>\n",
       "      <td>0</td>\n",
       "      <td>0</td>\n",
       "      <td>0</td>\n",
       "      <td>0</td>\n",
       "      <td>1</td>\n",
       "      <td>0</td>\n",
       "      <td>0</td>\n",
       "      <td>0</td>\n",
       "      <td>0</td>\n",
       "      <td>1</td>\n",
       "    </tr>\n",
       "    <tr>\n",
       "      <th>663</th>\n",
       "      <td>2.0</td>\n",
       "      <td>2</td>\n",
       "      <td>1200.0</td>\n",
       "      <td>745.571192</td>\n",
       "      <td>9.0</td>\n",
       "      <td>0</td>\n",
       "      <td>0</td>\n",
       "      <td>0</td>\n",
       "      <td>65000</td>\n",
       "      <td>1</td>\n",
       "      <td>...</td>\n",
       "      <td>0</td>\n",
       "      <td>0</td>\n",
       "      <td>0</td>\n",
       "      <td>0</td>\n",
       "      <td>0</td>\n",
       "      <td>0</td>\n",
       "      <td>0</td>\n",
       "      <td>0</td>\n",
       "      <td>0</td>\n",
       "      <td>1</td>\n",
       "    </tr>\n",
       "    <tr>\n",
       "      <th>664</th>\n",
       "      <td>4.0</td>\n",
       "      <td>3</td>\n",
       "      <td>2000.0</td>\n",
       "      <td>745.571192</td>\n",
       "      <td>20.0</td>\n",
       "      <td>0</td>\n",
       "      <td>0</td>\n",
       "      <td>0</td>\n",
       "      <td>120000</td>\n",
       "      <td>1</td>\n",
       "      <td>...</td>\n",
       "      <td>0</td>\n",
       "      <td>0</td>\n",
       "      <td>1</td>\n",
       "      <td>0</td>\n",
       "      <td>0</td>\n",
       "      <td>0</td>\n",
       "      <td>0</td>\n",
       "      <td>0</td>\n",
       "      <td>0</td>\n",
       "      <td>0</td>\n",
       "    </tr>\n",
       "    <tr>\n",
       "      <th>665</th>\n",
       "      <td>2.0</td>\n",
       "      <td>2</td>\n",
       "      <td>800.0</td>\n",
       "      <td>800.000000</td>\n",
       "      <td>19.0</td>\n",
       "      <td>0</td>\n",
       "      <td>0</td>\n",
       "      <td>0</td>\n",
       "      <td>65000</td>\n",
       "      <td>0</td>\n",
       "      <td>...</td>\n",
       "      <td>0</td>\n",
       "      <td>0</td>\n",
       "      <td>1</td>\n",
       "      <td>0</td>\n",
       "      <td>0</td>\n",
       "      <td>0</td>\n",
       "      <td>0</td>\n",
       "      <td>0</td>\n",
       "      <td>0</td>\n",
       "      <td>1</td>\n",
       "    </tr>\n",
       "  </tbody>\n",
       "</table>\n",
       "<p>666 rows × 37 columns</p>\n",
       "</div>"
      ],
      "text/plain": [
       "     Bedroom  Bathroom  Super_area  Carpet_area  Floor  Security_deposit  \\\n",
       "0        4.0         4      3000.0  2094.000000   15.0            500000   \n",
       "1        1.0         2       620.0   425.000000    5.0            100000   \n",
       "2        4.0         4      1800.0  1375.000000   32.0            500000   \n",
       "3        3.0         3      1848.0  1320.000000   22.0            250000   \n",
       "4        3.0         3      1400.0   980.000000    7.0                 0   \n",
       "..       ...       ...         ...          ...    ...               ...   \n",
       "661      1.0         2       780.0   600.000000    3.0            100000   \n",
       "662      2.0         2      1850.0   745.571192    9.0                 0   \n",
       "663      2.0         2      1200.0   745.571192    9.0                 0   \n",
       "664      4.0         3      2000.0   745.571192   20.0                 0   \n",
       "665      2.0         2       800.0   800.000000   19.0                 0   \n",
       "\n",
       "     Monthly_charges  Brokerage    Rent  covered_parking  ...  \\\n",
       "0                  0      75000   75000                0  ...   \n",
       "1                  0          0   25000                0  ...   \n",
       "2              30000     112500   75000                2  ...   \n",
       "3                  0          0   75000                1  ...   \n",
       "4                  0          0   45000                0  ...   \n",
       "..               ...        ...     ...              ...  ...   \n",
       "661             1500      30000   30000                0  ...   \n",
       "662                0          0  110000                0  ...   \n",
       "663                0          0   65000                1  ...   \n",
       "664                0          0  120000                1  ...   \n",
       "665                0          0   65000                0  ...   \n",
       "\n",
       "     Water_availability_24 Hours Available  Facing_North  Facing_North - East  \\\n",
       "0                                        0             1                    0   \n",
       "1                                        1             0                    1   \n",
       "2                                        1             0                    0   \n",
       "3                                        1             0                    1   \n",
       "4                                        1             0                    1   \n",
       "..                                     ...           ...                  ...   \n",
       "661                                      0             0                    1   \n",
       "662                                      0             0                    0   \n",
       "663                                      0             0                    0   \n",
       "664                                      0             0                    1   \n",
       "665                                      0             0                    1   \n",
       "\n",
       "     Facing_North - West  Facing_Not Mentioned  Facing_South  \\\n",
       "0                      0                     0             0   \n",
       "1                      0                     0             0   \n",
       "2                      0                     0             0   \n",
       "3                      0                     0             0   \n",
       "4                      0                     0             0   \n",
       "..                   ...                   ...           ...   \n",
       "661                    0                     0             0   \n",
       "662                    0                     1             0   \n",
       "663                    0                     0             0   \n",
       "664                    0                     0             0   \n",
       "665                    0                     0             0   \n",
       "\n",
       "     Facing_South - East  Facing_South -West  Facing_West  Owner_Owner  \n",
       "0                      0                   0            0            0  \n",
       "1                      0                   0            0            0  \n",
       "2                      0                   0            1            0  \n",
       "3                      0                   0            0            0  \n",
       "4                      0                   0            0            0  \n",
       "..                   ...                 ...          ...          ...  \n",
       "661                    0                   0            0            0  \n",
       "662                    0                   0            0            1  \n",
       "663                    0                   0            0            1  \n",
       "664                    0                   0            0            0  \n",
       "665                    0                   0            0            1  \n",
       "\n",
       "[666 rows x 37 columns]"
      ]
     },
     "execution_count": 81,
     "metadata": {},
     "output_type": "execute_result"
    }
   ],
   "source": [
    "# Import the clean daata\n",
    "old_df = pd.read_csv('Clean_data.csv')\n",
    "\n",
    "# Separating the categorical columns\n",
    "numeric_df = old_df._get_numeric_data()\n",
    "categorical_df = old_df[list(set(old_df.columns) - set(numeric_df.columns))]\n",
    "\n",
    "# Encoding the categorical columns\n",
    "new_Tenant =  pd.get_dummies(categorical_df['Tenant'], drop_first = True,prefix='Tenant')\n",
    "new_Locality =  pd.get_dummies(categorical_df['Locality'], drop_first = True,prefix='Locality')\n",
    "new_Furnished_status =  pd.get_dummies(categorical_df['Furnished_status'], drop_first = True,prefix='Furnished_status')\n",
    "new_Availability_status =  pd.get_dummies(categorical_df['Availability_status'], drop_first = True,prefix='Availability_status')\n",
    "new_Overlooking =  pd.get_dummies(categorical_df['Overlooking'], drop_first = True,prefix='Overlooking')\n",
    "new_Age_of_construction =  pd.get_dummies(categorical_df['Age_of_construction'], drop_first = True,prefix='Age_of_construction')\n",
    "new_Water_availability =  pd.get_dummies(categorical_df['Water_availability'], drop_first = True,prefix='Water_availability')\n",
    "new_Facing =  pd.get_dummies(categorical_df['Facing'], drop_first = True,prefix='Facing')\n",
    "new_Owner =  pd.get_dummies(categorical_df['Owner'], drop_first = True,prefix='Owner')\n",
    "new_categorical_df = pd.concat([new_Tenant , new_Locality , new_Furnished_status , new_Availability_status , new_Overlooking , new_Age_of_construction , new_Water_availability , new_Facing , new_Owner ] , axis = 1)\n",
    "\n",
    "# Combining the numerical and encoded categorical columns into a single dataframe \n",
    "df = pd.concat([numeric_df, new_categorical_df], axis=1)\n",
    "\n",
    "# dropping unwanted columns\n",
    "df.drop(['Unnamed: 0'] , axis = 1 , inplace = True)\n",
    "\n",
    "df"
   ]
  },
  {
   "cell_type": "markdown",
   "metadata": {},
   "source": [
    "## Detecting and removing Outliers"
   ]
  },
  {
   "cell_type": "code",
   "execution_count": 82,
   "metadata": {},
   "outputs": [
    {
     "data": {
      "image/png": "[encoded data removed]",
      "text/plain": [
       "<Figure size 720x360 with 1 Axes>"
      ]
     },
     "metadata": {
      "needs_background": "light"
     },
     "output_type": "display_data"
    },
    {
     "data": {
      "image/png": "[encoded data removed]",
      "text/plain": [
       "<Figure size 720x360 with 1 Axes>"
      ]
     },
     "metadata": {
      "needs_background": "light"
     },
     "output_type": "display_data"
    },
    {
     "data": {
      "image/png": "[encoded data removed]",
      "text/plain": [
       "<Figure size 720x360 with 1 Axes>"
      ]
     },
     "metadata": {
      "needs_background": "light"
     },
     "output_type": "display_data"
    }
   ],
   "source": [
    "import seaborn as sns\n",
    "import matplotlib.pyplot as plt\n",
    "plt.figure(figsize=(10,5))\n",
    "plt.title('With Outlier')\n",
    "sns.boxplot(x=df['Rent'])\n",
    "plt.show()\n",
    "\n",
    "# identifying the quantile range \n",
    "Q1 = df['Rent'].quantile(0.25)\n",
    "Q3 = df['Rent'].quantile(0.75)\n",
    "IQR = Q3 - Q1\n",
    "\n",
    "# removing the outlier range \n",
    "df = df[~((df['Rent'] < (Q1 - 1.5 * IQR)) |(df['Rent'] > (Q3 + 1.5 * IQR)))]\n",
    "\n",
    "# after removing the outlier\n",
    "import seaborn as sns\n",
    "import matplotlib.pyplot as plt\n",
    "plt.figure(figsize=(10,5))\n",
    "plt.title('Without Outlier')\n",
    "sns.boxplot(x=df['Rent'])\n",
    "plt.show()\n",
    "\n",
    "# Distribution on rent \n",
    "plt.figure(figsize=(10,5))\n",
    "sns.distplot(df['Rent']);\n",
    "plt.show()"
   ]
  },
  {
   "cell_type": "markdown",
   "metadata": {},
   "source": [
    "# VIF Calculation"
   ]
  },
  {
   "cell_type": "code",
   "execution_count": 83,
   "metadata": {},
   "outputs": [
    {
     "data": {
      "text/html": [
       "<div>\n",
       "<style scoped>\n",
       "    .dataframe tbody tr th:only-of-type {\n",
       "        vertical-align: middle;\n",
       "    }\n",
       "\n",
       "    .dataframe tbody tr th {\n",
       "        vertical-align: top;\n",
       "    }\n",
       "\n",
       "    .dataframe thead th {\n",
       "        text-align: right;\n",
       "    }\n",
       "</style>\n",
       "<table border=\"1\" class=\"dataframe\">\n",
       "  <thead>\n",
       "    <tr style=\"text-align: right;\">\n",
       "      <th></th>\n",
       "      <th>VIF Factor</th>\n",
       "      <th>features</th>\n",
       "    </tr>\n",
       "  </thead>\n",
       "  <tbody>\n",
       "    <tr>\n",
       "      <th>0</th>\n",
       "      <td>33.645739</td>\n",
       "      <td>Bedroom</td>\n",
       "    </tr>\n",
       "    <tr>\n",
       "      <th>1</th>\n",
       "      <td>25.493332</td>\n",
       "      <td>Bathroom</td>\n",
       "    </tr>\n",
       "    <tr>\n",
       "      <th>2</th>\n",
       "      <td>56.942795</td>\n",
       "      <td>Super_area</td>\n",
       "    </tr>\n",
       "    <tr>\n",
       "      <th>3</th>\n",
       "      <td>50.122125</td>\n",
       "      <td>Carpet_area</td>\n",
       "    </tr>\n",
       "    <tr>\n",
       "      <th>4</th>\n",
       "      <td>3.326258</td>\n",
       "      <td>Floor</td>\n",
       "    </tr>\n",
       "    <tr>\n",
       "      <th>5</th>\n",
       "      <td>4.276277</td>\n",
       "      <td>Security_deposit</td>\n",
       "    </tr>\n",
       "    <tr>\n",
       "      <th>6</th>\n",
       "      <td>1.159670</td>\n",
       "      <td>Monthly_charges</td>\n",
       "    </tr>\n",
       "    <tr>\n",
       "      <th>7</th>\n",
       "      <td>2.969845</td>\n",
       "      <td>Brokerage</td>\n",
       "    </tr>\n",
       "    <tr>\n",
       "      <th>8</th>\n",
       "      <td>2.111868</td>\n",
       "      <td>covered_parking</td>\n",
       "    </tr>\n",
       "    <tr>\n",
       "      <th>9</th>\n",
       "      <td>1.248515</td>\n",
       "      <td>open_parking</td>\n",
       "    </tr>\n",
       "  </tbody>\n",
       "</table>\n",
       "</div>"
      ],
      "text/plain": [
       "   VIF Factor          features\n",
       "0   33.645739           Bedroom\n",
       "1   25.493332          Bathroom\n",
       "2   56.942795        Super_area\n",
       "3   50.122125       Carpet_area\n",
       "4    3.326258             Floor\n",
       "5    4.276277  Security_deposit\n",
       "6    1.159670   Monthly_charges\n",
       "7    2.969845         Brokerage\n",
       "8    2.111868   covered_parking\n",
       "9    1.248515      open_parking"
      ]
     },
     "execution_count": 83,
     "metadata": {},
     "output_type": "execute_result"
    }
   ],
   "source": [
    "# Separating the categorical columns\n",
    "numeric_df = df[['Bedroom','Bathroom','Super_area','Carpet_area','Floor','Security_deposit','Monthly_charges','Brokerage','covered_parking','open_parking','Rent']]\n",
    "categorical_df = df[list(set(df.columns) - set(numeric_df.columns))]\n",
    "\n",
    "y_vif = numeric_df[['Rent']]\n",
    "x_vif = numeric_df.drop(['Rent'] , axis = 1)\n",
    "\n",
    "from statsmodels.stats.outliers_influence import variance_inflation_factor\n",
    "vif = pd.DataFrame()\n",
    "vif[\"VIF Factor\"] = [variance_inflation_factor(x_vif.values, i) for i in range(x_vif.shape[1])]\n",
    "vif[\"features\"] = x_vif.columns\n",
    "vif"
   ]
  },
  {
   "cell_type": "markdown",
   "metadata": {},
   "source": [
    "#### When VIF is greater than 5,  there is an indication that multicollinearity may be present. However when VIF s greater than 10, there is high multicollinearity. In the above case we can see that there is high multicollinearity between some variables. Hence, removing such features with high multicollinearity."
   ]
  },
  {
   "cell_type": "markdown",
   "metadata": {},
   "source": [
    "## Spliting the Data into Train and Test "
   ]
  },
  {
   "cell_type": "code",
   "execution_count": 84,
   "metadata": {},
   "outputs": [],
   "source": [
    "# Assigning the Target variable and response variable \n",
    "y = df[['Rent']]\n",
    "X = df.drop(['Rent','Bedroom','Bathroom','Super_area','Carpet_area'] , axis = 1)\n",
    "\n",
    "# Splitting the dataset into the Training set and Test set\n",
    "from sklearn.model_selection import train_test_split\n",
    "X_train, X_test, y_train, y_test = train_test_split(X, y, test_size = 0.3, random_state = 10)\n",
    "\n",
    "# standardizing the x features \n",
    "from sklearn.preprocessing import StandardScaler , MinMaxScaler\n",
    "MinMax_scalar = MinMaxScaler()\n",
    "X_train = MinMax_scalar.fit_transform(X_train)\n",
    "X_test = MinMax_scalar.transform(X_test)\n"
   ]
  },
  {
   "cell_type": "markdown",
   "metadata": {},
   "source": [
    "## Multiple Linear Regression"
   ]
  },
  {
   "cell_type": "code",
   "execution_count": 85,
   "metadata": {},
   "outputs": [
    {
     "name": "stdout",
     "output_type": "stream",
     "text": [
      "R_SQUARE_score is 0.6711802132768386\n",
      "\n",
      "Training RMSE is 8892.631669535182\n",
      "Testing RMSE is 9554.303026068523\n"
     ]
    }
   ],
   "source": [
    "import numpy as np\n",
    "from sklearn.metrics import r2_score , mean_squared_error\n",
    "from sklearn.linear_model import LinearRegression\n",
    "\n",
    "# Fitting Multiple Linear Regression to the Training set\n",
    "Multiple_regressor = LinearRegression()\n",
    "Multiple_regressor.fit(X_train, y_train)\n",
    "\n",
    "#prediciting the values of both train and test using the model \n",
    "MLR_y_train_pred = Multiple_regressor.predict(X_train)\n",
    "MLR_y_test_pred = Multiple_regressor.predict(X_test)\n",
    "\n",
    "\n",
    "# training and testing RMSE\n",
    "MLR_Train_RMSE = np.sqrt(mean_squared_error(y_train , MLR_y_train_pred))\n",
    "MLR_Test_RMSE = np.sqrt(mean_squared_error(y_test , MLR_y_test_pred))\n",
    "\n",
    "# R-square score\n",
    "MLR_r2 = r2_score(y_test , MLR_y_test_pred)\n",
    "\n",
    "# Displaying the value \n",
    "print('R_SQUARE_score is {}'.format(MLR_r2))\n",
    "print()\n",
    "print('Training RMSE is {}'.format(MLR_Train_RMSE))\n",
    "print('Testing RMSE is {}'.format(MLR_Test_RMSE))"
   ]
  },
  {
   "cell_type": "markdown",
   "metadata": {},
   "source": [
    "## Ridge Regressor "
   ]
  },
  {
   "cell_type": "code",
   "execution_count": 86,
   "metadata": {},
   "outputs": [
    {
     "name": "stdout",
     "output_type": "stream",
     "text": [
      "R_SQUARE_score is 0.6696706698785727\n",
      "\n",
      "Training RMSE is 8893.054515707736\n",
      "Testing RMSE is 9576.20882476932\n"
     ]
    }
   ],
   "source": [
    "y = df[['Rent']]\n",
    "X = df.drop(['Rent','Bedroom','Bathroom','Super_area','Carpet_area'] , axis = 1)\n",
    "\n",
    "# Splitting the dataset into the Training set and Test set\n",
    "from sklearn.model_selection import train_test_split\n",
    "X_train, X_test, y_train, y_test = train_test_split(X, y, test_size = 0.3, random_state = 10)\n",
    "\n",
    "# standardizing the x features \n",
    "from sklearn.preprocessing import StandardScaler , MinMaxScaler\n",
    "MinMax_scalar = MinMaxScaler()\n",
    "X_train = MinMax_scalar.fit_transform(X_train)\n",
    "X_test = MinMax_scalar.transform(X_test)\n",
    "\n",
    "from sklearn.linear_model import Ridge\n",
    "import numpy as np\n",
    "from sklearn.metrics import r2_score , mean_squared_error\n",
    "\n",
    "Ridge_regressor = Ridge(alpha=0.05)\n",
    "Ridge_regressor.fit(X_train , y_train)\n",
    "\n",
    "#prediciting the values of both train and test using the model \n",
    "Ridge_y_train_pred = Ridge_regressor.predict(X_train)\n",
    "Ridge_y_test_pred = Ridge_regressor.predict(X_test)\n",
    "\n",
    "# training and testing RMSE\n",
    "Ridge_Train_RMSE = np.sqrt(mean_squared_error(y_train , Ridge_y_train_pred))\n",
    "Ridge_Test_RMSE = np.sqrt(mean_squared_error(y_test , Ridge_y_test_pred))\n",
    "\n",
    "# R-square score\n",
    "Ridge_r2 = r2_score(y_test , Ridge_y_test_pred)\n",
    "\n",
    "# Displaying the value \n",
    "print('R_SQUARE_score is {}'.format(Ridge_r2))\n",
    "print()\n",
    "print('Training RMSE is {}'.format(Ridge_Train_RMSE))\n",
    "print('Testing RMSE is {}'.format(Ridge_Test_RMSE))"
   ]
  },
  {
   "cell_type": "markdown",
   "metadata": {},
   "source": [
    "## Lasso Regressor"
   ]
  },
  {
   "cell_type": "code",
   "execution_count": 87,
   "metadata": {
    "scrolled": true
   },
   "outputs": [
    {
     "name": "stdout",
     "output_type": "stream",
     "text": [
      "R_SQUARE_score is 0.6712057662820994\n",
      "\n",
      "Training RMSE is 8892.631846184231\n",
      "Testing RMSE is 9553.931780315286\n"
     ]
    }
   ],
   "source": [
    "y = df[['Rent']]\n",
    "X = df.drop(['Rent','Bedroom','Bathroom','Super_area','Carpet_area'] , axis = 1)\n",
    "# Splitting the dataset into the Training set and Test set\n",
    "from sklearn.model_selection import train_test_split\n",
    "X_train, X_test, y_train, y_test = train_test_split(X, y, test_size = 0.3, random_state = 10)\n",
    "\n",
    "# standardizing the x features \n",
    "from sklearn.preprocessing import StandardScaler , MinMaxScaler\n",
    "MinMax_scalar = MinMaxScaler()\n",
    "X_train = MinMax_scalar.fit_transform(X_train)\n",
    "X_test = MinMax_scalar.transform(X_test)\n",
    "\n",
    "from sklearn.linear_model import Lasso\n",
    "import numpy as np\n",
    "from sklearn.metrics import r2_score , mean_squared_error\n",
    "\n",
    "# training the model\n",
    "Lasso_regressor = Lasso(alpha=0.05)\n",
    "Lasso_regressor.fit(X_train , y_train)\n",
    "\n",
    "#prediciting the values of both train and test using the model \n",
    "Lasso_y_train_pred = Lasso_regressor.predict(X_train)\n",
    "Lasso_y_test_pred = Lasso_regressor.predict(X_test)\n",
    "\n",
    "\n",
    "# training and testing RMSE\n",
    "Lasso_Train_RMSE = np.sqrt(mean_squared_error(y_train , Lasso_y_train_pred))\n",
    "Lasso_Test_RMSE = np.sqrt(mean_squared_error(y_test , Lasso_y_test_pred))\n",
    "\n",
    "# R-square score\n",
    "Lasso_r2 = r2_score(y_test , Lasso_y_test_pred)\n",
    "\n",
    "# Displaying the value \n",
    "print('R_SQUARE_score is {}'.format(Lasso_r2))\n",
    "print()\n",
    "print('Training RMSE is {}'.format(Lasso_Train_RMSE))\n",
    "print('Testing RMSE is {}'.format(Lasso_Test_RMSE))"
   ]
  },
  {
   "cell_type": "markdown",
   "metadata": {},
   "source": [
    "## DecisionTree Regression "
   ]
  },
  {
   "cell_type": "code",
   "execution_count": 88,
   "metadata": {},
   "outputs": [
    {
     "name": "stdout",
     "output_type": "stream",
     "text": [
      "R_SQUARE_score is 0.8141189654040054\n",
      "\n",
      "Training RMSE is 7535.723533007909\n",
      "Testing RMSE is 7183.524548023155\n"
     ]
    }
   ],
   "source": [
    "y = df[['Rent']]\n",
    "X = df.drop(['Rent','Bedroom','Bathroom','Super_area','Carpet_area'] , axis = 1)\n",
    "\n",
    "# Splitting the dataset into the Training set and Test set\n",
    "from sklearn.model_selection import train_test_split\n",
    "X_train, X_test, y_train, y_test = train_test_split(X, y, test_size = 0.3, random_state = 10)\n",
    "\n",
    "# standardizing the x features \n",
    "from sklearn.preprocessing import StandardScaler , MinMaxScaler\n",
    "MinMax_scalar = MinMaxScaler()\n",
    "X_train = MinMax_scalar.fit_transform(X_train)\n",
    "X_test = MinMax_scalar.transform(X_test)\n",
    "\n",
    "from sklearn.tree import DecisionTreeRegressor\n",
    "import numpy as np\n",
    "from sklearn.metrics import r2_score , mean_squared_error\n",
    "\n",
    "# Training the model\n",
    "DecisionTree_regressor = DecisionTreeRegressor(criterion = 'mae' , random_state = 0 , max_depth= 4 )  \n",
    "DecisionTree_regressor.fit(X_train, y_train) \n",
    "\n",
    "#prediciting the values of both train and test using the model \n",
    "DecisionTree_y_train_pred = DecisionTree_regressor.predict(X_train)\n",
    "DecisionTree_y_test_pred = DecisionTree_regressor.predict(X_test)\n",
    "\n",
    "# training and testing RMSE\n",
    "DecisionTree_Train_RMSE = np.sqrt(mean_squared_error(y_train , DecisionTree_y_train_pred))\n",
    "DecisionTree_Test_RMSE = np.sqrt(mean_squared_error(y_test , DecisionTree_y_test_pred))\n",
    "\n",
    "# R-square score\n",
    "DecisionTree_r2 = r2_score(y_test , DecisionTree_y_test_pred)\n",
    "\n",
    "# Displaying the value \n",
    "print('R_SQUARE_score is {}'.format(DecisionTree_r2))\n",
    "print()\n",
    "print('Training RMSE is {}'.format(DecisionTree_Train_RMSE))\n",
    "print('Testing RMSE is {}'.format(DecisionTree_Test_RMSE))"
   ]
  },
  {
   "cell_type": "markdown",
   "metadata": {},
   "source": [
    "# RandomForest Regression"
   ]
  },
  {
   "cell_type": "code",
   "execution_count": 89,
   "metadata": {
    "scrolled": true
   },
   "outputs": [
    {
     "name": "stdout",
     "output_type": "stream",
     "text": [
      "R_SQUARE_score is 0.8142705560863669\n",
      "\n",
      "Training RMSE is 6272.072682115135\n",
      "Testing RMSE is 7180.594777649861\n"
     ]
    }
   ],
   "source": [
    "y = df[['Rent']]\n",
    "X = df.drop(['Rent','Bedroom','Bathroom','Super_area','Carpet_area'] , axis = 1)\n",
    "\n",
    "# Splitting the dataset into the Training set and Test set\n",
    "from sklearn.model_selection import train_test_split\n",
    "X_train, X_test, y_train, y_test = train_test_split(X, y, test_size = 0.3, random_state = 10)\n",
    "\n",
    "# standardizing the x features \n",
    "from sklearn.preprocessing import StandardScaler , MinMaxScaler\n",
    "MinMax_scalar = MinMaxScaler()\n",
    "X_train = MinMax_scalar.fit_transform(X_train)\n",
    "X_test = MinMax_scalar.transform(X_test)\n",
    "\n",
    "from sklearn.ensemble import RandomForestRegressor\n",
    "import numpy as np\n",
    "from sklearn.metrics import r2_score , mean_squared_error \n",
    "\n",
    "# Training the model\n",
    "RandomForest_regressor = RandomForestRegressor( max_depth = 4)  \n",
    "RandomForest_regressor.fit(X_train, y_train) \n",
    "\n",
    "#prediciting the values of both train and test using the model \n",
    "RandomForest_y_train_pred = RandomForest_regressor.predict(X_train)\n",
    "RandomForest_y_test_pred = RandomForest_regressor.predict(X_test)\n",
    "\n",
    "# training and testing RMSE\n",
    "RandomForest_Train_RMSE = np.sqrt(mean_squared_error(y_train , RandomForest_y_train_pred))\n",
    "RandomForest_Test_RMSE = np.sqrt(mean_squared_error(y_test , RandomForest_y_test_pred))\n",
    "\n",
    "# R-square score\n",
    "RandomForest_r2 = r2_score(y_test , RandomForest_y_test_pred)\n",
    "\n",
    "# Displaying the value \n",
    "print('R_SQUARE_score is {}'.format(RandomForest_r2))\n",
    "print()\n",
    "print('Training RMSE is {}'.format(RandomForest_Train_RMSE))\n",
    "print('Testing RMSE is {}'.format(RandomForest_Test_RMSE))"
   ]
  },
  {
   "cell_type": "markdown",
   "metadata": {},
   "source": [
    "# Model Comparison"
   ]
  },
  {
   "cell_type": "code",
   "execution_count": 90,
   "metadata": {},
   "outputs": [],
   "source": [
    "Techniques_list             = pd.DataFrame( [ 'MLR'          , 'Ridge'           , 'Lasso'          , 'Decision Tree'         , 'Random Forest'          ] , columns=['Techniques'])\n",
    "R2_list                     = pd.DataFrame( [ MLR_r2         , Ridge_r2          , Lasso_r2         , DecisionTree_r2         , RandomForest_r2          ] , columns=['R2']         )\n",
    "Train_RMSE_list             = pd.DataFrame( [ MLR_Train_RMSE , Ridge_Train_RMSE  , Lasso_Train_RMSE , DecisionTree_Train_RMSE , RandomForest_Train_RMSE  ] , columns=['Train RMSE'] )\n",
    "Test_RMSE_list              = pd.DataFrame( [ MLR_Test_RMSE  , Ridge_Test_RMSE   , Lasso_Test_RMSE  , DecisionTree_Test_RMSE  , RandomForest_Test_RMSE   ] , columns=['Test RMSE']  )\n",
    "\n",
    "Test_Train_difference_list  = pd.DataFrame( [ (MLR_Test_RMSE - MLR_Train_RMSE) , (Ridge_Test_RMSE - Ridge_Train_RMSE)  , (Lasso_Test_RMSE - Lasso_Train_RMSE) , (DecisionTree_Test_RMSE - DecisionTree_Train_RMSE) , (RandomForest_Test_RMSE - RandomForest_Train_RMSE)] , columns=['Difference'])\n",
    "\n",
    "Model_comparision_df = pd.concat([Techniques_list, R2_list , Train_RMSE_list , Test_RMSE_list , Test_Train_difference_list ] , axis = 1)"
   ]
  },
  {
   "cell_type": "code",
   "execution_count": 91,
   "metadata": {},
   "outputs": [
    {
     "data": {
      "text/html": [
       "<div>\n",
       "<style scoped>\n",
       "    .dataframe tbody tr th:only-of-type {\n",
       "        vertical-align: middle;\n",
       "    }\n",
       "\n",
       "    .dataframe tbody tr th {\n",
       "        vertical-align: top;\n",
       "    }\n",
       "\n",
       "    .dataframe thead th {\n",
       "        text-align: right;\n",
       "    }\n",
       "</style>\n",
       "<table border=\"1\" class=\"dataframe\">\n",
       "  <thead>\n",
       "    <tr style=\"text-align: right;\">\n",
       "      <th></th>\n",
       "      <th>R2</th>\n",
       "      <th>Train RMSE</th>\n",
       "      <th>Test RMSE</th>\n",
       "      <th>Difference</th>\n",
       "    </tr>\n",
       "    <tr>\n",
       "      <th>Techniques</th>\n",
       "      <th></th>\n",
       "      <th></th>\n",
       "      <th></th>\n",
       "      <th></th>\n",
       "    </tr>\n",
       "  </thead>\n",
       "  <tbody>\n",
       "    <tr>\n",
       "      <th>MLR</th>\n",
       "      <td>0.671180</td>\n",
       "      <td>8892.631670</td>\n",
       "      <td>9554.303026</td>\n",
       "      <td>661.671357</td>\n",
       "    </tr>\n",
       "    <tr>\n",
       "      <th>Ridge</th>\n",
       "      <td>0.669671</td>\n",
       "      <td>8893.054516</td>\n",
       "      <td>9576.208825</td>\n",
       "      <td>683.154309</td>\n",
       "    </tr>\n",
       "    <tr>\n",
       "      <th>Lasso</th>\n",
       "      <td>0.671206</td>\n",
       "      <td>8892.631846</td>\n",
       "      <td>9553.931780</td>\n",
       "      <td>661.299934</td>\n",
       "    </tr>\n",
       "    <tr>\n",
       "      <th>Decision Tree</th>\n",
       "      <td>0.814119</td>\n",
       "      <td>7535.723533</td>\n",
       "      <td>7183.524548</td>\n",
       "      <td>-352.198985</td>\n",
       "    </tr>\n",
       "    <tr>\n",
       "      <th>Random Forest</th>\n",
       "      <td>0.814271</td>\n",
       "      <td>6272.072682</td>\n",
       "      <td>7180.594778</td>\n",
       "      <td>908.522096</td>\n",
       "    </tr>\n",
       "  </tbody>\n",
       "</table>\n",
       "</div>"
      ],
      "text/plain": [
       "                     R2   Train RMSE    Test RMSE  Difference\n",
       "Techniques                                                   \n",
       "MLR            0.671180  8892.631670  9554.303026  661.671357\n",
       "Ridge          0.669671  8893.054516  9576.208825  683.154309\n",
       "Lasso          0.671206  8892.631846  9553.931780  661.299934\n",
       "Decision Tree  0.814119  7535.723533  7183.524548 -352.198985\n",
       "Random Forest  0.814271  6272.072682  7180.594778  908.522096"
      ]
     },
     "execution_count": 91,
     "metadata": {},
     "output_type": "execute_result"
    }
   ],
   "source": [
    "Model_comparision_df.set_index(['Techniques'])"
   ]
  },
  {
   "cell_type": "code",
   "execution_count": 92,
   "metadata": {},
   "outputs": [
    {
     "data": {
      "text/html": [
       "<div>\n",
       "<style scoped>\n",
       "    .dataframe tbody tr th:only-of-type {\n",
       "        vertical-align: middle;\n",
       "    }\n",
       "\n",
       "    .dataframe tbody tr th {\n",
       "        vertical-align: top;\n",
       "    }\n",
       "\n",
       "    .dataframe thead th {\n",
       "        text-align: right;\n",
       "    }\n",
       "</style>\n",
       "<table border=\"1\" class=\"dataframe\">\n",
       "  <thead>\n",
       "    <tr style=\"text-align: right;\">\n",
       "      <th></th>\n",
       "      <th>Techniques</th>\n",
       "      <th>R2</th>\n",
       "      <th>Train RMSE</th>\n",
       "      <th>Test RMSE</th>\n",
       "      <th>Difference</th>\n",
       "    </tr>\n",
       "  </thead>\n",
       "  <tbody>\n",
       "    <tr>\n",
       "      <th>1</th>\n",
       "      <td>Ridge</td>\n",
       "      <td>0.669671</td>\n",
       "      <td>8893.054516</td>\n",
       "      <td>9576.208825</td>\n",
       "      <td>683.154309</td>\n",
       "    </tr>\n",
       "    <tr>\n",
       "      <th>0</th>\n",
       "      <td>MLR</td>\n",
       "      <td>0.671180</td>\n",
       "      <td>8892.631670</td>\n",
       "      <td>9554.303026</td>\n",
       "      <td>661.671357</td>\n",
       "    </tr>\n",
       "    <tr>\n",
       "      <th>2</th>\n",
       "      <td>Lasso</td>\n",
       "      <td>0.671206</td>\n",
       "      <td>8892.631846</td>\n",
       "      <td>9553.931780</td>\n",
       "      <td>661.299934</td>\n",
       "    </tr>\n",
       "    <tr>\n",
       "      <th>3</th>\n",
       "      <td>Decision Tree</td>\n",
       "      <td>0.814119</td>\n",
       "      <td>7535.723533</td>\n",
       "      <td>7183.524548</td>\n",
       "      <td>-352.198985</td>\n",
       "    </tr>\n",
       "    <tr>\n",
       "      <th>4</th>\n",
       "      <td>Random Forest</td>\n",
       "      <td>0.814271</td>\n",
       "      <td>6272.072682</td>\n",
       "      <td>7180.594778</td>\n",
       "      <td>908.522096</td>\n",
       "    </tr>\n",
       "  </tbody>\n",
       "</table>\n",
       "</div>"
      ],
      "text/plain": [
       "      Techniques        R2   Train RMSE    Test RMSE  Difference\n",
       "1          Ridge  0.669671  8893.054516  9576.208825  683.154309\n",
       "0            MLR  0.671180  8892.631670  9554.303026  661.671357\n",
       "2          Lasso  0.671206  8892.631846  9553.931780  661.299934\n",
       "3  Decision Tree  0.814119  7535.723533  7183.524548 -352.198985\n",
       "4  Random Forest  0.814271  6272.072682  7180.594778  908.522096"
      ]
     },
     "execution_count": 92,
     "metadata": {},
     "output_type": "execute_result"
    }
   ],
   "source": [
    "Model_comparision_df.sort_values(['R2'])"
   ]
  },
  {
   "cell_type": "markdown",
   "metadata": {},
   "source": [
    "- The least difference between testing and training RMSE score is that of decision tree \n",
    "- Whereas it also has a r square value of 0.814 which is a good r square value \n"
   ]
  },
  {
   "cell_type": "code",
   "execution_count": 95,
   "metadata": {},
   "outputs": [
    {
     "data": {
      "text/plain": [
       "['RandomForest_regressor,pkl']"
      ]
     },
     "execution_count": 95,
     "metadata": {},
     "output_type": "execute_result"
    }
   ],
   "source": [
    "joblib.dump(RandomForest_regressor , \"RandomForest_regressor,pkl\")"
   ]
  },
  {
   "cell_type": "code",
   "execution_count": 103,
   "metadata": {},
   "outputs": [
    {
     "data": {
      "text/html": [
       "<div>\n",
       "<style scoped>\n",
       "    .dataframe tbody tr th:only-of-type {\n",
       "        vertical-align: middle;\n",
       "    }\n",
       "\n",
       "    .dataframe tbody tr th {\n",
       "        vertical-align: top;\n",
       "    }\n",
       "\n",
       "    .dataframe thead th {\n",
       "        text-align: right;\n",
       "    }\n",
       "</style>\n",
       "<table border=\"1\" class=\"dataframe\">\n",
       "  <thead>\n",
       "    <tr style=\"text-align: right;\">\n",
       "      <th></th>\n",
       "      <th>Floor</th>\n",
       "      <th>Security_deposit</th>\n",
       "      <th>Monthly_charges</th>\n",
       "      <th>Brokerage</th>\n",
       "      <th>covered_parking</th>\n",
       "      <th>open_parking</th>\n",
       "      <th>Tenant_Family</th>\n",
       "      <th>Tenant_Family / Bachelors</th>\n",
       "      <th>Locality_Ghatkopar</th>\n",
       "      <th>Locality_Mulund</th>\n",
       "      <th>...</th>\n",
       "      <th>Water_availability_24 Hours Available</th>\n",
       "      <th>Facing_North</th>\n",
       "      <th>Facing_North - East</th>\n",
       "      <th>Facing_North - West</th>\n",
       "      <th>Facing_Not Mentioned</th>\n",
       "      <th>Facing_South</th>\n",
       "      <th>Facing_South - East</th>\n",
       "      <th>Facing_South -West</th>\n",
       "      <th>Facing_West</th>\n",
       "      <th>Owner_Owner</th>\n",
       "    </tr>\n",
       "  </thead>\n",
       "  <tbody>\n",
       "    <tr>\n",
       "      <th>0</th>\n",
       "      <td>15.0</td>\n",
       "      <td>500000</td>\n",
       "      <td>0</td>\n",
       "      <td>75000</td>\n",
       "      <td>0</td>\n",
       "      <td>0</td>\n",
       "      <td>0</td>\n",
       "      <td>0</td>\n",
       "      <td>0</td>\n",
       "      <td>1</td>\n",
       "      <td>...</td>\n",
       "      <td>0</td>\n",
       "      <td>1</td>\n",
       "      <td>0</td>\n",
       "      <td>0</td>\n",
       "      <td>0</td>\n",
       "      <td>0</td>\n",
       "      <td>0</td>\n",
       "      <td>0</td>\n",
       "      <td>0</td>\n",
       "      <td>0</td>\n",
       "    </tr>\n",
       "    <tr>\n",
       "      <th>1</th>\n",
       "      <td>5.0</td>\n",
       "      <td>100000</td>\n",
       "      <td>0</td>\n",
       "      <td>0</td>\n",
       "      <td>0</td>\n",
       "      <td>0</td>\n",
       "      <td>1</td>\n",
       "      <td>0</td>\n",
       "      <td>0</td>\n",
       "      <td>1</td>\n",
       "      <td>...</td>\n",
       "      <td>1</td>\n",
       "      <td>0</td>\n",
       "      <td>1</td>\n",
       "      <td>0</td>\n",
       "      <td>0</td>\n",
       "      <td>0</td>\n",
       "      <td>0</td>\n",
       "      <td>0</td>\n",
       "      <td>0</td>\n",
       "      <td>0</td>\n",
       "    </tr>\n",
       "    <tr>\n",
       "      <th>2</th>\n",
       "      <td>32.0</td>\n",
       "      <td>500000</td>\n",
       "      <td>30000</td>\n",
       "      <td>112500</td>\n",
       "      <td>2</td>\n",
       "      <td>0</td>\n",
       "      <td>1</td>\n",
       "      <td>0</td>\n",
       "      <td>0</td>\n",
       "      <td>1</td>\n",
       "      <td>...</td>\n",
       "      <td>1</td>\n",
       "      <td>0</td>\n",
       "      <td>0</td>\n",
       "      <td>0</td>\n",
       "      <td>0</td>\n",
       "      <td>0</td>\n",
       "      <td>0</td>\n",
       "      <td>0</td>\n",
       "      <td>1</td>\n",
       "      <td>0</td>\n",
       "    </tr>\n",
       "    <tr>\n",
       "      <th>3</th>\n",
       "      <td>22.0</td>\n",
       "      <td>250000</td>\n",
       "      <td>0</td>\n",
       "      <td>0</td>\n",
       "      <td>1</td>\n",
       "      <td>0</td>\n",
       "      <td>1</td>\n",
       "      <td>0</td>\n",
       "      <td>0</td>\n",
       "      <td>1</td>\n",
       "      <td>...</td>\n",
       "      <td>1</td>\n",
       "      <td>0</td>\n",
       "      <td>1</td>\n",
       "      <td>0</td>\n",
       "      <td>0</td>\n",
       "      <td>0</td>\n",
       "      <td>0</td>\n",
       "      <td>0</td>\n",
       "      <td>0</td>\n",
       "      <td>0</td>\n",
       "    </tr>\n",
       "    <tr>\n",
       "      <th>4</th>\n",
       "      <td>7.0</td>\n",
       "      <td>0</td>\n",
       "      <td>0</td>\n",
       "      <td>0</td>\n",
       "      <td>0</td>\n",
       "      <td>0</td>\n",
       "      <td>0</td>\n",
       "      <td>0</td>\n",
       "      <td>0</td>\n",
       "      <td>1</td>\n",
       "      <td>...</td>\n",
       "      <td>1</td>\n",
       "      <td>0</td>\n",
       "      <td>1</td>\n",
       "      <td>0</td>\n",
       "      <td>0</td>\n",
       "      <td>0</td>\n",
       "      <td>0</td>\n",
       "      <td>0</td>\n",
       "      <td>0</td>\n",
       "      <td>0</td>\n",
       "    </tr>\n",
       "    <tr>\n",
       "      <th>...</th>\n",
       "      <td>...</td>\n",
       "      <td>...</td>\n",
       "      <td>...</td>\n",
       "      <td>...</td>\n",
       "      <td>...</td>\n",
       "      <td>...</td>\n",
       "      <td>...</td>\n",
       "      <td>...</td>\n",
       "      <td>...</td>\n",
       "      <td>...</td>\n",
       "      <td>...</td>\n",
       "      <td>...</td>\n",
       "      <td>...</td>\n",
       "      <td>...</td>\n",
       "      <td>...</td>\n",
       "      <td>...</td>\n",
       "      <td>...</td>\n",
       "      <td>...</td>\n",
       "      <td>...</td>\n",
       "      <td>...</td>\n",
       "      <td>...</td>\n",
       "    </tr>\n",
       "    <tr>\n",
       "      <th>659</th>\n",
       "      <td>5.0</td>\n",
       "      <td>0</td>\n",
       "      <td>0</td>\n",
       "      <td>0</td>\n",
       "      <td>0</td>\n",
       "      <td>0</td>\n",
       "      <td>0</td>\n",
       "      <td>1</td>\n",
       "      <td>1</td>\n",
       "      <td>0</td>\n",
       "      <td>...</td>\n",
       "      <td>0</td>\n",
       "      <td>0</td>\n",
       "      <td>0</td>\n",
       "      <td>0</td>\n",
       "      <td>1</td>\n",
       "      <td>0</td>\n",
       "      <td>0</td>\n",
       "      <td>0</td>\n",
       "      <td>0</td>\n",
       "      <td>1</td>\n",
       "    </tr>\n",
       "    <tr>\n",
       "      <th>660</th>\n",
       "      <td>7.0</td>\n",
       "      <td>300000</td>\n",
       "      <td>0</td>\n",
       "      <td>0</td>\n",
       "      <td>1</td>\n",
       "      <td>0</td>\n",
       "      <td>0</td>\n",
       "      <td>0</td>\n",
       "      <td>1</td>\n",
       "      <td>0</td>\n",
       "      <td>...</td>\n",
       "      <td>1</td>\n",
       "      <td>0</td>\n",
       "      <td>0</td>\n",
       "      <td>1</td>\n",
       "      <td>0</td>\n",
       "      <td>0</td>\n",
       "      <td>0</td>\n",
       "      <td>0</td>\n",
       "      <td>0</td>\n",
       "      <td>0</td>\n",
       "    </tr>\n",
       "    <tr>\n",
       "      <th>661</th>\n",
       "      <td>3.0</td>\n",
       "      <td>100000</td>\n",
       "      <td>1500</td>\n",
       "      <td>30000</td>\n",
       "      <td>0</td>\n",
       "      <td>0</td>\n",
       "      <td>0</td>\n",
       "      <td>0</td>\n",
       "      <td>1</td>\n",
       "      <td>0</td>\n",
       "      <td>...</td>\n",
       "      <td>0</td>\n",
       "      <td>0</td>\n",
       "      <td>1</td>\n",
       "      <td>0</td>\n",
       "      <td>0</td>\n",
       "      <td>0</td>\n",
       "      <td>0</td>\n",
       "      <td>0</td>\n",
       "      <td>0</td>\n",
       "      <td>0</td>\n",
       "    </tr>\n",
       "    <tr>\n",
       "      <th>663</th>\n",
       "      <td>9.0</td>\n",
       "      <td>0</td>\n",
       "      <td>0</td>\n",
       "      <td>0</td>\n",
       "      <td>1</td>\n",
       "      <td>0</td>\n",
       "      <td>0</td>\n",
       "      <td>1</td>\n",
       "      <td>1</td>\n",
       "      <td>0</td>\n",
       "      <td>...</td>\n",
       "      <td>0</td>\n",
       "      <td>0</td>\n",
       "      <td>0</td>\n",
       "      <td>0</td>\n",
       "      <td>0</td>\n",
       "      <td>0</td>\n",
       "      <td>0</td>\n",
       "      <td>0</td>\n",
       "      <td>0</td>\n",
       "      <td>1</td>\n",
       "    </tr>\n",
       "    <tr>\n",
       "      <th>665</th>\n",
       "      <td>19.0</td>\n",
       "      <td>0</td>\n",
       "      <td>0</td>\n",
       "      <td>0</td>\n",
       "      <td>0</td>\n",
       "      <td>0</td>\n",
       "      <td>0</td>\n",
       "      <td>1</td>\n",
       "      <td>1</td>\n",
       "      <td>0</td>\n",
       "      <td>...</td>\n",
       "      <td>0</td>\n",
       "      <td>0</td>\n",
       "      <td>1</td>\n",
       "      <td>0</td>\n",
       "      <td>0</td>\n",
       "      <td>0</td>\n",
       "      <td>0</td>\n",
       "      <td>0</td>\n",
       "      <td>0</td>\n",
       "      <td>1</td>\n",
       "    </tr>\n",
       "  </tbody>\n",
       "</table>\n",
       "<p>647 rows × 32 columns</p>\n",
       "</div>"
      ],
      "text/plain": [
       "     Floor  Security_deposit  Monthly_charges  Brokerage  covered_parking  \\\n",
       "0     15.0            500000                0      75000                0   \n",
       "1      5.0            100000                0          0                0   \n",
       "2     32.0            500000            30000     112500                2   \n",
       "3     22.0            250000                0          0                1   \n",
       "4      7.0                 0                0          0                0   \n",
       "..     ...               ...              ...        ...              ...   \n",
       "659    5.0                 0                0          0                0   \n",
       "660    7.0            300000                0          0                1   \n",
       "661    3.0            100000             1500      30000                0   \n",
       "663    9.0                 0                0          0                1   \n",
       "665   19.0                 0                0          0                0   \n",
       "\n",
       "     open_parking  Tenant_Family  Tenant_Family / Bachelors   \\\n",
       "0               0              0                           0   \n",
       "1               0              1                           0   \n",
       "2               0              1                           0   \n",
       "3               0              1                           0   \n",
       "4               0              0                           0   \n",
       "..            ...            ...                         ...   \n",
       "659             0              0                           1   \n",
       "660             0              0                           0   \n",
       "661             0              0                           0   \n",
       "663             0              0                           1   \n",
       "665             0              0                           1   \n",
       "\n",
       "     Locality_Ghatkopar  Locality_Mulund  ...  \\\n",
       "0                     0                1  ...   \n",
       "1                     0                1  ...   \n",
       "2                     0                1  ...   \n",
       "3                     0                1  ...   \n",
       "4                     0                1  ...   \n",
       "..                  ...              ...  ...   \n",
       "659                   1                0  ...   \n",
       "660                   1                0  ...   \n",
       "661                   1                0  ...   \n",
       "663                   1                0  ...   \n",
       "665                   1                0  ...   \n",
       "\n",
       "     Water_availability_24 Hours Available  Facing_North  Facing_North - East  \\\n",
       "0                                        0             1                    0   \n",
       "1                                        1             0                    1   \n",
       "2                                        1             0                    0   \n",
       "3                                        1             0                    1   \n",
       "4                                        1             0                    1   \n",
       "..                                     ...           ...                  ...   \n",
       "659                                      0             0                    0   \n",
       "660                                      1             0                    0   \n",
       "661                                      0             0                    1   \n",
       "663                                      0             0                    0   \n",
       "665                                      0             0                    1   \n",
       "\n",
       "     Facing_North - West  Facing_Not Mentioned  Facing_South  \\\n",
       "0                      0                     0             0   \n",
       "1                      0                     0             0   \n",
       "2                      0                     0             0   \n",
       "3                      0                     0             0   \n",
       "4                      0                     0             0   \n",
       "..                   ...                   ...           ...   \n",
       "659                    0                     1             0   \n",
       "660                    1                     0             0   \n",
       "661                    0                     0             0   \n",
       "663                    0                     0             0   \n",
       "665                    0                     0             0   \n",
       "\n",
       "     Facing_South - East  Facing_South -West  Facing_West  Owner_Owner  \n",
       "0                      0                   0            0            0  \n",
       "1                      0                   0            0            0  \n",
       "2                      0                   0            1            0  \n",
       "3                      0                   0            0            0  \n",
       "4                      0                   0            0            0  \n",
       "..                   ...                 ...          ...          ...  \n",
       "659                    0                   0            0            1  \n",
       "660                    0                   0            0            0  \n",
       "661                    0                   0            0            0  \n",
       "663                    0                   0            0            1  \n",
       "665                    0                   0            0            1  \n",
       "\n",
       "[647 rows x 32 columns]"
      ]
     },
     "execution_count": 103,
     "metadata": {},
     "output_type": "execute_result"
    }
   ],
   "source": [
    "X"
   ]
  },
  {
   "cell_type": "markdown",
   "metadata": {},
   "source": [
    "# Testing the model "
   ]
  },
  {
   "cell_type": "code",
   "execution_count": 96,
   "metadata": {},
   "outputs": [],
   "source": [
    "model = joblib.load(\"RandomForest_regressor,pkl\")"
   ]
  },
  {
   "cell_type": "code",
   "execution_count": null,
   "metadata": {},
   "outputs": [],
   "source": [
    "x_val = []\n",
    "x_val"
   ]
  }
 ],
 "metadata": {
  "kernelspec": {
   "display_name": "Python 3",
   "language": "python",
   "name": "python3"
  },
  "language_info": {
   "codemirror_mode": {
    "name": "ipython",
    "version": 3
   },
   "file_extension": ".py",
   "mimetype": "text/x-python",
   "name": "python",
   "nbconvert_exporter": "python",
   "pygments_lexer": "ipython3",
   "version": "3.8.3"
  }
 },
 "nbformat": 4,
 "nbformat_minor": 4
}
